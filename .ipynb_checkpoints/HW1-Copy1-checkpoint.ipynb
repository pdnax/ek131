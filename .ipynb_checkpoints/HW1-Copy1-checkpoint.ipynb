{
 "cells": [
  {
   "cell_type": "code",
   "execution_count": 4,
   "metadata": {},
   "outputs": [
    {
     "name": "stdout",
     "output_type": "stream",
     "text": [
      "PART 1: SINGLE DIE\n"
     ]
    }
   ],
   "source": [
    "println(\"PART 1: SINGLE DIE\");"
   ]
  },
  {
   "cell_type": "code",
   "execution_count": 5,
   "metadata": {},
   "outputs": [
    {
     "name": "stdout",
     "output_type": "stream",
     "text": [
      "  0.022976 seconds (749 allocations: 7.673 MiB)\n"
     ]
    }
   ],
   "source": [
    "nthrows = 10^6;\n",
    "@time x = rand(1:6,nthrows);"
   ]
  },
  {
   "cell_type": "code",
   "execution_count": 6,
   "metadata": {},
   "outputs": [
    {
     "name": "stdout",
     "output_type": "stream",
     "text": [
      "I got 167308 1's in 1000000 tries\n"
     ]
    }
   ],
   "source": [
    "count = 0;\n",
    "for value in x\n",
    "    if value == 1;\n",
    "        count += 1;\n",
    "    end\n",
    "end\n",
    "println(\"I got \",count,\" 1's in \",nthrows,\" tries\");"
   ]
  },
  {
   "cell_type": "code",
   "execution_count": 7,
   "metadata": {},
   "outputs": [
    {
     "data": {
      "text/plain": [
       "throwto (generic function with 1 method)"
      ]
     },
     "execution_count": 7,
     "metadata": {},
     "output_type": "execute_result"
    }
   ],
   "source": [
    "function throwto(n)\n",
    "    count = 1;\n",
    "    while rand(1:6) != n\n",
    "        count += 1;\n",
    "    end\n",
    "    return count\n",
    "end"
   ]
  },
  {
   "cell_type": "code",
   "execution_count": 14,
   "metadata": {},
   "outputs": [],
   "source": [
    "results = [throwto(1) for i in 1:nthrows];\n",
    "max = maximum(results);"
   ]
  },
  {
   "cell_type": "code",
   "execution_count": 15,
   "metadata": {},
   "outputs": [
    {
     "data": {
      "text/plain": [
       "distribute (generic function with 1 method)"
      ]
     },
     "execution_count": 15,
     "metadata": {},
     "output_type": "execute_result"
    }
   ],
   "source": [
    "function distribute(results)\n",
    "    dist = zeros(Int64,maximum(results));\n",
    "    for i in results\n",
    "        dist[i] += 1;\n",
    "    end\n",
    "    return dist\n",
    "end"
   ]
  },
  {
   "cell_type": "code",
   "execution_count": 32,
   "metadata": {
    "scrolled": true
   },
   "outputs": [
    {
     "data": {
      "text/plain": [
       "numlist (generic function with 1 method)"
      ]
     },
     "execution_count": 32,
     "metadata": {},
     "output_type": "execute_result"
    }
   ],
   "source": [
    "function numlist(list)\n",
    "    for (i,x) in enumerate(list)\n",
    "        println(i,\" \",x)\n",
    "    end\n",
    "end"
   ]
  },
  {
   "cell_type": "code",
   "execution_count": 33,
   "metadata": {},
   "outputs": [
    {
     "name": "stdout",
     "output_type": "stream",
     "text": [
      "1 166926\n",
      "2 139216\n",
      "3 115326\n",
      "4 96291\n",
      "5 79846\n",
      "6 67017\n",
      "7 56330\n",
      "8 46821\n",
      "9 38920\n",
      "10 32174\n",
      "11 27347\n",
      "12 22416\n",
      "13 18590\n",
      "14 15662\n",
      "15 12683\n",
      "16 10632\n",
      "17 8916\n",
      "18 7461\n",
      "19 6282\n",
      "20 5286\n",
      "21 4243\n",
      "22 3606\n",
      "23 2939\n",
      "24 2480\n",
      "25 1992\n",
      "26 1720\n",
      "27 1448\n",
      "28 1242\n",
      "29 1028\n",
      "30 860\n",
      "31 704\n",
      "32 582\n",
      "33 525\n",
      "34 362\n",
      "35 317\n",
      "36 303\n",
      "37 241\n",
      "38 227\n",
      "39 169\n",
      "40 141\n",
      "41 120\n",
      "42 109\n",
      "43 71\n",
      "44 72\n",
      "45 51\n",
      "46 60\n",
      "47 43\n",
      "48 40\n",
      "49 25\n",
      "50 25\n",
      "51 26\n",
      "52 12\n",
      "53 14\n",
      "54 11\n",
      "55 7\n",
      "56 7\n",
      "57 8\n",
      "58 6\n",
      "59 2\n",
      "60 1\n",
      "61 4\n",
      "62 2\n",
      "63 0\n",
      "64 3\n",
      "65 2\n",
      "66 1\n",
      "67 1\n",
      "68 3\n",
      "69 0\n",
      "70 1\n",
      "71 0\n",
      "72 0\n",
      "73 0\n",
      "74 0\n",
      "75 0\n",
      "76 0\n",
      "77 0\n",
      "78 1\n",
      "79 1\n"
     ]
    }
   ],
   "source": [
    "dist = distribute(results);\n",
    "numlist(dist);"
   ]
  },
  {
   "cell_type": "code",
   "execution_count": 34,
   "metadata": {},
   "outputs": [
    {
     "name": "stdout",
     "output_type": "stream",
     "text": [
      "average number of steps to roll 1: 5\n",
      "most likely number of steps to roll 1: 4\n"
     ]
    }
   ],
   "source": [
    "average = floor(Int,mean(results));\n",
    "mostlikely = floor(Int,median(results));\n",
    "println(\"average number of steps to roll 1: \",average);\n",
    "println(\"most likely number of steps to roll 1: \",mostlikely);"
   ]
  },
  {
   "cell_type": "code",
   "execution_count": 35,
   "metadata": {},
   "outputs": [],
   "source": [
    "prob = dist/nthrows;"
   ]
  },
  {
   "cell_type": "code",
   "execution_count": 36,
   "metadata": {},
   "outputs": [
    {
     "name": "stdout",
     "output_type": "stream",
     "text": [
      "1 0.166926\n",
      "2 0.139216\n",
      "3 0.115326\n",
      "4 0.096291\n",
      "5 0.079846\n",
      "6 0.067017\n",
      "7 0.05633\n",
      "8 0.046821\n",
      "9 0.03892\n",
      "10 0.032174\n",
      "11 0.027347\n",
      "12 0.022416\n",
      "13 0.01859\n",
      "14 0.015662\n",
      "15 0.012683\n",
      "16 0.010632\n",
      "17 0.008916\n",
      "18 0.007461\n",
      "19 0.006282\n",
      "20 0.005286\n",
      "21 0.004243\n",
      "22 0.003606\n",
      "23 0.002939\n",
      "24 0.00248\n",
      "25 0.001992\n",
      "26 0.00172\n",
      "27 0.001448\n",
      "28 0.001242\n",
      "29 0.001028\n",
      "30 0.00086\n",
      "31 0.000704\n",
      "32 0.000582\n",
      "33 0.000525\n",
      "34 0.000362\n",
      "35 0.000317\n",
      "36 0.000303\n",
      "37 0.000241\n",
      "38 0.000227\n",
      "39 0.000169\n",
      "40 0.000141\n",
      "41 0.00012\n",
      "42 0.000109\n",
      "43 7.1e-5\n",
      "44 7.2e-5\n",
      "45 5.1e-5\n",
      "46 6.0e-5\n",
      "47 4.3e-5\n",
      "48 4.0e-5\n",
      "49 2.5e-5\n",
      "50 2.5e-5\n",
      "51 2.6e-5\n",
      "52 1.2e-5\n",
      "53 1.4e-5\n",
      "54 1.1e-5\n",
      "55 7.0e-6\n",
      "56 7.0e-6\n",
      "57 8.0e-6\n",
      "58 6.0e-6\n",
      "59 2.0e-6\n",
      "60 1.0e-6\n",
      "61 4.0e-6\n",
      "62 2.0e-6\n",
      "63 0.0\n",
      "64 3.0e-6\n",
      "65 2.0e-6\n",
      "66 1.0e-6\n",
      "67 1.0e-6\n",
      "68 3.0e-6\n",
      "69 0.0\n",
      "70 1.0e-6\n",
      "71 0.0\n",
      "72 0.0\n",
      "73 0.0\n",
      "74 0.0\n",
      "75 0.0\n",
      "76 0.0\n",
      "77 0.0\n",
      "78 1.0e-6\n",
      "79 1.0e-6\n"
     ]
    }
   ],
   "source": [
    "numlist(prob);"
   ]
  },
  {
   "cell_type": "code",
   "execution_count": 37,
   "metadata": {},
   "outputs": [
    {
     "data": {
      "text/plain": [
       "Plots.PyPlotBackend()"
      ]
     },
     "execution_count": 37,
     "metadata": {},
     "output_type": "execute_result"
    }
   ],
   "source": [
    "using Plots\n",
    "pyplot()"
   ]
  },
  {
   "cell_type": "code",
   "execution_count": 38,
   "metadata": {},
   "outputs": [
    {
     "data": {
      "text/html": [
       "<img src=\"data:image/png;base64,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\" />"
      ]
     },
     "execution_count": 38,
     "metadata": {},
     "output_type": "execute_result"
    }
   ],
   "source": [
    "bar(1:max,prob,label=\"\",xlabel=\"Number of Throws\",ylabel=\"Probability\",title=\"Distribution: Number of Throws to Roll 1\")"
   ]
  },
  {
   "cell_type": "code",
   "execution_count": 39,
   "metadata": {},
   "outputs": [
    {
     "name": "stdout",
     "output_type": "stream",
     "text": [
      "PART 2: TENZY\n"
     ]
    }
   ],
   "source": [
    "println(\"PART 2: TENZY\");"
   ]
  },
  {
   "cell_type": "code",
   "execution_count": 40,
   "metadata": {},
   "outputs": [],
   "source": [
    "dice = 10;"
   ]
  },
  {
   "cell_type": "code",
   "execution_count": 41,
   "metadata": {},
   "outputs": [
    {
     "data": {
      "text/plain": [
       "mode (generic function with 1 method)"
      ]
     },
     "execution_count": 41,
     "metadata": {},
     "output_type": "execute_result"
    }
   ],
   "source": [
    "function mode(nums)\n",
    "    dnums = zeros(6,1);\n",
    "    for value in nums\n",
    "        dnums[value] += 1;\n",
    "    end\n",
    "    dmax = maximum(dnums);\n",
    "    L = minimum(find(dnums->dnums==dmax,dnums));\n",
    "    numdice = dmax;\n",
    "    return L, numdice\n",
    "end"
   ]
  },
  {
   "cell_type": "code",
   "execution_count": 42,
   "metadata": {},
   "outputs": [
    {
     "data": {
      "text/plain": [
       "rolldice (generic function with 1 method)"
      ]
     },
     "execution_count": 42,
     "metadata": {},
     "output_type": "execute_result"
    }
   ],
   "source": [
    "function rolldice(numdice)\n",
    "    dice = rand(1:6,numdice);\n",
    "    return dice\n",
    "end"
   ]
  },
  {
   "cell_type": "code",
   "execution_count": 78,
   "metadata": {},
   "outputs": [
    {
     "data": {
      "text/plain": [
       "tenzy (generic function with 1 method)"
      ]
     },
     "execution_count": 78,
     "metadata": {},
     "output_type": "execute_result"
    }
   ],
   "source": [
    "function tenzy()\n",
    "    dice = 10;\n",
    "    game = rolldice(dice);\n",
    "    throws = 1;\n",
    "    L = mode(game)[1];\n",
    "    numL = mode(game)[2];\n",
    "    dice = Int(dice - numL);\n",
    "    while dice > 0\n",
    "        game = rolldice(dice);\n",
    "        throws += 1;\n",
    "        for dval in game\n",
    "            if dval == L\n",
    "                dice -= 1;\n",
    "            end\n",
    "        end\n",
    "    end\n",
    "    return throws\n",
    "end"
   ]
  },
  {
   "cell_type": "code",
   "execution_count": 79,
   "metadata": {},
   "outputs": [
    {
     "data": {
      "text/plain": [
       "18"
      ]
     },
     "execution_count": 79,
     "metadata": {},
     "output_type": "execute_result"
    }
   ],
   "source": [
    "tenzy()"
   ]
  },
  {
   "cell_type": "code",
   "execution_count": 87,
   "metadata": {},
   "outputs": [
    {
     "data": {
      "text/plain": [
       "play (generic function with 1 method)"
      ]
     },
     "execution_count": 87,
     "metadata": {},
     "output_type": "execute_result"
    }
   ],
   "source": [
    "function play(runs)\n",
    "    throws = ones(Int64,runs);\n",
    "    for i in eachindex(throws)\n",
    "        throws[i] = tenzy();\n",
    "    end\n",
    "    dist = distribute(throws);\n",
    "    return dist\n",
    "end"
   ]
  },
  {
   "cell_type": "code",
   "execution_count": 88,
   "metadata": {},
   "outputs": [
    {
     "name": "stdout",
     "output_type": "stream",
     "text": [
      "1 0\n",
      "2 0\n",
      "3 0\n",
      "4 1\n",
      "5 1\n",
      "6 3\n",
      "7 3\n",
      "8 4\n",
      "9 4\n",
      "10 9\n",
      "11 4\n",
      "12 14\n",
      "13 12\n",
      "14 10\n",
      "15 6\n",
      "16 2\n",
      "17 3\n",
      "18 3\n",
      "19 2\n",
      "20 0\n",
      "21 2\n",
      "22 3\n",
      "23 4\n",
      "24 0\n",
      "25 3\n",
      "26 1\n",
      "27 0\n",
      "28 0\n",
      "29 1\n",
      "30 0\n",
      "31 1\n",
      "32 1\n",
      "33 0\n",
      "34 0\n",
      "35 0\n",
      "36 0\n",
      "37 1\n",
      "38 0\n",
      "39 0\n",
      "40 0\n",
      "41 0\n",
      "42 0\n",
      "43 1\n",
      "44 0\n",
      "45 0\n",
      "46 0\n",
      "47 0\n",
      "48 0\n",
      "49 0\n",
      "50 0\n",
      "51 0\n",
      "52 0\n",
      "53 0\n",
      "54 0\n",
      "55 0\n",
      "56 0\n",
      "57 0\n",
      "58 0\n",
      "59 1\n"
     ]
    }
   ],
   "source": [
    "gamedist = play(100);\n",
    "numlist(gamedist);"
   ]
  },
  {
   "cell_type": "code",
   "execution_count": 82,
   "metadata": {},
   "outputs": [],
   "source": [
    "#=\n",
    "function rungames(runs)\n",
    "    throws = ones(Int64,runs)\n",
    "    for i in eachindex(throws)\n",
    "        dice = 10;\n",
    "        game = rolldice(dice);\n",
    "        throws[i] = 1;\n",
    "        L = mode(game)[1];\n",
    "        numL = mode(game)[2];\n",
    "        dice = Int(dice - numL);\n",
    "        while dice > 0\n",
    "            game = rolldice(dice);\n",
    "            throws[i] += 1;\n",
    "            for dval in game\n",
    "                if dval == L\n",
    "                   dice -= 1;\n",
    "                end\n",
    "            end\n",
    "        end\n",
    "    end\n",
    "    return throws\n",
    "end\n",
    "=#"
   ]
  },
  {
   "cell_type": "code",
   "execution_count": 83,
   "metadata": {},
   "outputs": [],
   "source": [
    "#=\n",
    "play100 = rungames(100);\n",
    "play1000 = rungames(1000);\n",
    "play10000 = rungames(10000);\n",
    "=#"
   ]
  },
  {
   "cell_type": "code",
   "execution_count": 84,
   "metadata": {},
   "outputs": [],
   "source": [
    "#=\n",
    "prob100 = play100/100;\n",
    "prob1000 = play1000/1000;\n",
    "prob10000 = play10000/10000;\n",
    "=#"
   ]
  },
  {
   "cell_type": "code",
   "execution_count": 85,
   "metadata": {},
   "outputs": [],
   "source": [
    "#=\n",
    "max100 = maximum(play100);\n",
    "max1000 = maximum(play1000);\n",
    "max10000 = maximum(play10000);\n",
    "=#"
   ]
  },
  {
   "cell_type": "code",
   "execution_count": 89,
   "metadata": {},
   "outputs": [],
   "source": [
    "dist100 = play(100);\n",
    "dist1000 = play(1000);\n",
    "dist10000 = play(10000);"
   ]
  },
  {
   "cell_type": "code",
   "execution_count": 90,
   "metadata": {},
   "outputs": [],
   "source": [
    "prob100 = dist100 / 100;\n",
    "prob1000 = dist1000 / 1000;\n",
    "prob10000 = dist10000 / 10000;"
   ]
  },
  {
   "cell_type": "code",
   "execution_count": 91,
   "metadata": {},
   "outputs": [
    {
     "data": {
      "text/html": [
       "<img src=\"data:image/png;base64,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\" />"
      ]
     },
     "execution_count": 91,
     "metadata": {},
     "output_type": "execute_result"
    }
   ],
   "source": [
    "plot(prob100,label=\"N=100\",xlabel=\"Number of Throws\",ylabel=\"Probability\",title=\"Distributions for Various N\")\n",
    "plot!(prob1000,label=\"N=1000\")\n",
    "plot!(prob10000,label=\"N=10000\")"
   ]
  },
  {
   "cell_type": "code",
   "execution_count": 92,
   "metadata": {},
   "outputs": [
    {
     "data": {
      "text/html": [
       "<img src=\"data:image/png;base64,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\" />"
      ]
     },
     "execution_count": 92,
     "metadata": {},
     "output_type": "execute_result"
    }
   ],
   "source": [
    "scatter(prob100,label=\"N=100\",xlabel=\"Number of Throws\",ylabel=\"Probability\",title=\"Distributions for Various N\")\n",
    "scatter!(prob1000,label=\"N=1000\")\n",
    "scatter!(prob10000,label=\"N=10000\")"
   ]
  },
  {
   "cell_type": "code",
   "execution_count": null,
   "metadata": {},
   "outputs": [],
   "source": []
  }
 ],
 "metadata": {
  "kernelspec": {
   "display_name": "Julia 0.6.2",
   "language": "julia",
   "name": "julia-0.6"
  },
  "language_info": {
   "file_extension": ".jl",
   "mimetype": "application/julia",
   "name": "julia",
   "version": "0.6.2"
  }
 },
 "nbformat": 4,
 "nbformat_minor": 2
}
