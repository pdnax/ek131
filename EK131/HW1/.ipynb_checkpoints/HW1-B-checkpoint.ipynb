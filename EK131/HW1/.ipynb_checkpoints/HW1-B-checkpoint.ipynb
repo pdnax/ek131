{
 "cells": [
  {
   "cell_type": "markdown",
   "metadata": {},
   "source": [
    "# HOMEWORK 1\n",
    "## PART 1: SINGLE DIE"
   ]
  },
  {
   "cell_type": "code",
   "execution_count": 3,
   "metadata": {},
   "outputs": [
    {
     "name": "stdout",
     "output_type": "stream",
     "text": [
      "  0.024514 seconds (749 allocations: 7.673 MiB)\n"
     ]
    }
   ],
   "source": [
    "nthrows = 10^6;\n",
    "@time x = rand(1:6,nthrows);"
   ]
  },
  {
   "cell_type": "code",
   "execution_count": 4,
   "metadata": {},
   "outputs": [
    {
     "name": "stdout",
     "output_type": "stream",
     "text": [
      "I got 166312 1's in 1000000 tries\n"
     ]
    }
   ],
   "source": [
    "count = 0;\n",
    "for value in x\n",
    "    if value == 1;\n",
    "        count += 1;\n",
    "    end\n",
    "end\n",
    "println(\"I got \",count,\" 1's in \",nthrows,\" tries\");"
   ]
  },
  {
   "cell_type": "code",
   "execution_count": 5,
   "metadata": {},
   "outputs": [
    {
     "data": {
      "text/plain": [
       "throwto (generic function with 1 method)"
      ]
     },
     "execution_count": 5,
     "metadata": {},
     "output_type": "execute_result"
    }
   ],
   "source": [
    "function throwto(n)\n",
    "    count = 1;\n",
    "    while rand(1:6) != n\n",
    "        count += 1;\n",
    "    end\n",
    "    return count\n",
    "end"
   ]
  },
  {
   "cell_type": "code",
   "execution_count": 6,
   "metadata": {},
   "outputs": [],
   "source": [
    "results = [throwto(1) for i in 1:nthrows];\n",
    "max = maximum(results);"
   ]
  },
  {
   "cell_type": "code",
   "execution_count": 7,
   "metadata": {},
   "outputs": [
    {
     "data": {
      "text/plain": [
       "distribute (generic function with 1 method)"
      ]
     },
     "execution_count": 7,
     "metadata": {},
     "output_type": "execute_result"
    }
   ],
   "source": [
    "function distribute(results)\n",
    "    dist = zeros(Int64,maximum(results));\n",
    "    for i in results\n",
    "        dist[i] += 1;\n",
    "    end\n",
    "    return dist\n",
    "end"
   ]
  },
  {
   "cell_type": "code",
   "execution_count": 8,
   "metadata": {
    "scrolled": true
   },
   "outputs": [
    {
     "data": {
      "text/plain": [
       "numlist (generic function with 1 method)"
      ]
     },
     "execution_count": 8,
     "metadata": {},
     "output_type": "execute_result"
    }
   ],
   "source": [
    "function numlist(list)\n",
    "    for (i,x) in enumerate(list)\n",
    "        println(i,\" \",x)\n",
    "    end\n",
    "end"
   ]
  },
  {
   "cell_type": "code",
   "execution_count": 9,
   "metadata": {},
   "outputs": [
    {
     "name": "stdout",
     "output_type": "stream",
     "text": [
      "1 165991\n",
      "2 138841\n",
      "3 115787\n",
      "4 96141\n",
      "5 80127\n",
      "6 66939\n",
      "7 55898\n",
      "8 46853\n",
      "9 39104\n",
      "10 32260\n",
      "11 27145\n",
      "12 22596\n",
      "13 18733\n",
      "14 15811\n",
      "15 12969\n",
      "16 10891\n",
      "17 9004\n",
      "18 7500\n",
      "19 6277\n",
      "20 5199\n",
      "21 4332\n",
      "22 3553\n",
      "23 3053\n",
      "24 2429\n",
      "25 2120\n",
      "26 1696\n",
      "27 1455\n",
      "28 1287\n",
      "29 997\n",
      "30 815\n",
      "31 692\n",
      "32 580\n",
      "33 513\n",
      "34 398\n",
      "35 344\n",
      "36 280\n",
      "37 228\n",
      "38 185\n",
      "39 159\n",
      "40 136\n",
      "41 105\n",
      "42 95\n",
      "43 79\n",
      "44 61\n",
      "45 72\n",
      "46 53\n",
      "47 37\n",
      "48 36\n",
      "49 26\n",
      "50 25\n",
      "51 15\n",
      "52 11\n",
      "53 12\n",
      "54 12\n",
      "55 9\n",
      "56 4\n",
      "57 7\n",
      "58 2\n",
      "59 8\n",
      "60 1\n",
      "61 4\n",
      "62 3\n",
      "63 0\n",
      "64 0\n",
      "65 2\n",
      "66 0\n",
      "67 0\n",
      "68 0\n",
      "69 0\n",
      "70 1\n",
      "71 0\n",
      "72 1\n",
      "73 0\n",
      "74 0\n",
      "75 0\n",
      "76 0\n",
      "77 0\n",
      "78 1\n"
     ]
    }
   ],
   "source": [
    "dist = distribute(results);\n",
    "numlist(dist);"
   ]
  },
  {
   "cell_type": "code",
   "execution_count": 10,
   "metadata": {},
   "outputs": [
    {
     "name": "stdout",
     "output_type": "stream",
     "text": [
      "average number of steps to roll 1: 6\n",
      "most likely number of steps to roll 1: 4\n"
     ]
    }
   ],
   "source": [
    "average = floor(Int,mean(results));\n",
    "mostlikely = floor(Int,median(results));\n",
    "prob = dist/nthrows;\n",
    "println(\"average number of steps to roll 1: \",average);\n",
    "println(\"most likely number of steps to roll 1: \",mostlikely);"
   ]
  },
  {
   "cell_type": "code",
   "execution_count": 11,
   "metadata": {},
   "outputs": [
    {
     "data": {
      "text/plain": [
       "Plots.PyPlotBackend()"
      ]
     },
     "execution_count": 11,
     "metadata": {},
     "output_type": "execute_result"
    }
   ],
   "source": [
    "using Plots\n",
    "pyplot()"
   ]
  },
  {
   "cell_type": "code",
   "execution_count": 12,
   "metadata": {
    "scrolled": false
   },
   "outputs": [
    {
     "data": {
      "text/html": [
       "<img src=\"data:image/png;base64,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\" />"
      ]
     },
     "execution_count": 12,
     "metadata": {},
     "output_type": "execute_result"
    }
   ],
   "source": [
    "bar(prob,label=\"\",xlabel=\"Number of Throws\",ylabel=\"Probability\",title=\"Distribution: Number of Throws to Roll 1\")"
   ]
  },
  {
   "cell_type": "markdown",
   "metadata": {},
   "source": [
    "## PART 2: TENZY"
   ]
  },
  {
   "cell_type": "markdown",
   "metadata": {},
   "source": [
    "### Functions to Play Tenzy"
   ]
  },
  {
   "cell_type": "code",
   "execution_count": 13,
   "metadata": {},
   "outputs": [
    {
     "data": {
      "text/plain": [
       "mode (generic function with 1 method)"
      ]
     },
     "execution_count": 13,
     "metadata": {},
     "output_type": "execute_result"
    }
   ],
   "source": [
    "function mode(nums)\n",
    "    dnums = zeros(6,1);\n",
    "    for value in nums\n",
    "        dnums[value] += 1;\n",
    "    end\n",
    "    dmax = maximum(dnums);\n",
    "    L = minimum(find(dnums->dnums==dmax,dnums));\n",
    "    numdice = dmax;\n",
    "    return L, numdice\n",
    "end"
   ]
  },
  {
   "cell_type": "code",
   "execution_count": 14,
   "metadata": {},
   "outputs": [
    {
     "data": {
      "text/plain": [
       "rolldice (generic function with 1 method)"
      ]
     },
     "execution_count": 14,
     "metadata": {},
     "output_type": "execute_result"
    }
   ],
   "source": [
    "function rolldice(numdice)\n",
    "    dice = rand(1:6,numdice);\n",
    "    return dice\n",
    "end"
   ]
  },
  {
   "cell_type": "code",
   "execution_count": 15,
   "metadata": {},
   "outputs": [
    {
     "data": {
      "text/plain": [
       "tenzy (generic function with 1 method)"
      ]
     },
     "execution_count": 15,
     "metadata": {},
     "output_type": "execute_result"
    }
   ],
   "source": [
    "function tenzy()\n",
    "    dice = 10;\n",
    "    game = rolldice(dice);\n",
    "    throws = 1;\n",
    "    L = mode(game)[1];\n",
    "    numL = mode(game)[2];\n",
    "    dice = Int(dice - numL);\n",
    "    while dice > 0\n",
    "        game = rolldice(dice);\n",
    "        throws += 1;\n",
    "        for dval in game\n",
    "            if dval == L\n",
    "                dice -= 1;\n",
    "            end\n",
    "        end\n",
    "    end\n",
    "    return throws\n",
    "end"
   ]
  },
  {
   "cell_type": "code",
   "execution_count": 16,
   "metadata": {},
   "outputs": [
    {
     "data": {
      "text/plain": [
       "play (generic function with 1 method)"
      ]
     },
     "execution_count": 16,
     "metadata": {},
     "output_type": "execute_result"
    }
   ],
   "source": [
    "function play(runs)\n",
    "    throws = ones(Int64,runs);\n",
    "    for i in eachindex(throws)\n",
    "        throws[i] = tenzy();\n",
    "    end\n",
    "    return throws\n",
    "end"
   ]
  },
  {
   "cell_type": "markdown",
   "metadata": {},
   "source": [
    "### Tenzy: 1000 Games"
   ]
  },
  {
   "cell_type": "code",
   "execution_count": 17,
   "metadata": {
    "scrolled": true
   },
   "outputs": [
    {
     "name": "stdout",
     "output_type": "stream",
     "text": [
      "  0.126611 seconds (473.10 k allocations: 27.708 MiB, 13.37% gc time)\n",
      "average number of steps to end game: 15\n",
      "most likely number of steps of end game: 14\n"
     ]
    }
   ],
   "source": [
    "n = 10000;\n",
    "@time tenzythrows = play(n);\n",
    "averaget = floor(Int,mean(tenzythrows));\n",
    "tenzydist = distribute(tenzythrows);\n",
    "likelyt = floor(Int,median(tenzythrows));\n",
    "tenzyprob = tenzydist / n;\n",
    "println(\"average number of steps to end game: \",averaget);\n",
    "println(\"most likely number of steps of end game: \",likelyt);"
   ]
  },
  {
   "cell_type": "code",
   "execution_count": 18,
   "metadata": {},
   "outputs": [
    {
     "data": {
      "text/html": [
       "<img src=\"data:image/png;base64,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\" />"
      ]
     },
     "execution_count": 18,
     "metadata": {},
     "output_type": "execute_result"
    }
   ],
   "source": [
    "bar(tenzyprob,label=\"\",xlabel=\"Number of Throws\",ylabel=\"Probability\",title=\"Distribution: Number of Throws to End Tenzy Game\")"
   ]
  },
  {
   "cell_type": "markdown",
   "metadata": {},
   "source": [
    "## Part 3: Optional Questions"
   ]
  },
  {
   "cell_type": "markdown",
   "metadata": {},
   "source": [
    "### A. Tenzy: Increasing Sample Size"
   ]
  },
  {
   "cell_type": "code",
   "execution_count": 19,
   "metadata": {},
   "outputs": [
    {
     "name": "stdout",
     "output_type": "stream",
     "text": [
      "  0.003545 seconds (4.73 k allocations: 286.347 KiB)\n",
      "  0.007367 seconds (45.12 k allocations: 2.638 MiB)\n",
      "  0.044331 seconds (453.31 k allocations: 26.630 MiB, 17.68% gc time)\n",
      "  0.360787 seconds (4.54 M allocations: 266.570 MiB, 13.27% gc time)\n",
      "  3.666046 seconds (45.36 M allocations: 2.604 GiB, 12.30% gc time)\n"
     ]
    }
   ],
   "source": [
    "@time play10_2 = play(10^2);\n",
    "@time play10_3 = play(10^3);\n",
    "@time play10_4 = play(10^4);\n",
    "@time play10_5 = play(10^5);\n",
    "@time play10_6 = play(10^6);"
   ]
  },
  {
   "cell_type": "code",
   "execution_count": 20,
   "metadata": {},
   "outputs": [],
   "source": [
    "dist10_2 = distribute(play10_2);\n",
    "dist10_3 = distribute(play10_3);\n",
    "dist10_4 = distribute(play10_4);\n",
    "dist10_5 = distribute(play10_5);\n",
    "dist10_6 = distribute(play10_6);"
   ]
  },
  {
   "cell_type": "code",
   "execution_count": 21,
   "metadata": {},
   "outputs": [],
   "source": [
    "prob10_2 = dist10_2 / 10^2;\n",
    "prob10_3 = dist10_3 / 10^3;\n",
    "prob10_4 = dist10_4 / 10^4;\n",
    "prob10_5 = dist10_5 / 10^5;\n",
    "prob10_6 = dist10_6 / 10^6;"
   ]
  },
  {
   "cell_type": "code",
   "execution_count": 22,
   "metadata": {},
   "outputs": [
    {
     "data": {
      "text/html": [
       "<img src=\"data:image/png;base64,iVBORw0KGgoAAAANSUhEUgAAAlgAAAGQCAYAAAByNR6YAAAABHNCSVQICAgIfAhkiAAAAAlwSFlzAAAPYQAAD2EBqD+naQAAADl0RVh0U29mdHdhcmUAbWF0cGxvdGxpYiB2ZXJzaW9uIDIuMS4yLCBodHRwOi8vbWF0cGxvdGxpYi5vcmcvNQv5yAAAIABJREFUeJzs3XtYVVX++PH35ioXQVEkFQEh4YCigKROopJllumoHEvNtNJQvtnYTP5iKgUvoBlmxpSmTZqaY5PJMU1tSivNMi3FWyqoJRcH71y8oAeQ/fvD4eSJAx7gAAKf1/PwPJ511l77s/cC+bD2OmspqqqqCCGEEEIIi7Gq7wCEEEIIIRobSbCEsKDt27ejKAozZ86sl/P7+Pjg4+NjVDZz5kwURWH79u31ElNGRgaKovDMM8/Uy/lroqioiOnTp+Pn54ednV293sf6FBERgY2NTX2HIUSDIgmWEH9QlhDc/uXo6Ei7du148MEHiY+P59dff62Vc0dGRqIoSq20XZtMJXaNwZtvvsmcOXPw8vIiNjaWGTNm1Nl1vvrqqyiKwrx58yqtV1JSwj333IOtrS3nzp2rk9gaioiICBRFwcnJiZycHJN1PD09cXZ2ruPIRFMgf5IIUQE/Pz+eeuopAPR6PefPn+enn34iISGBuXPnEhsby5w5c4wSoh49enDs2DFat25dLzF//fXX9XLeyrRv355jx47h6upa36FU2ZYtW3B2duarr77C1ta2Ts89fvx45s2bx4cffsgrr7xSYb3Nmzdz7tw5hg0bhoeHR63EsmbNGq5fv14rbdeFwsJCZs6cyfvvv1/foYgmRBIsISpw7733mnzUt3PnTsaNG8frr7+OtbU1CQkJhvccHR3RaDR1GKUxPz+/ejt3RWxtbev1ntRETk4OrVq1qvPkCqBTp0707duX7777jh9++IHevXubrLd8+XIAJkyYUGuxeHl51VrbdcHPz4/ly5fz0ksvNdjvRdHwyCNCIaqoT58+fPnll9jb25OUlER2drbhvYrmYJ04cYJnn32Wjh070qxZM1q3bk1YWBhTp0411FEUhR07dhj+XfZVNnfp9rlMaWlpREVF0bp1axRFISMjA7jzo7p//vOfdO7cmWbNmuHl5cWrr77KjRs3jOpUNo/sj/Opyl5nZmaSmZlpFHfZ8ZXNwcrKymLChAm0b98eOzs7PD09mTBhgtE9LVP2+LSkpISEhAQ6duyIvb09/v7+LF68uFz9GzdusGDBArp164arqyvOzs74+fkxevRoDh8+XOE9gt/nrZ06dcrouiIjIw11SkpKWLhwId26dcPBwQFXV1ceeOABNm/eXK69FStWoCgKK1asYPPmzfTp04fmzZvf8XFjWdL04Ycfmnz/3LlzbNmyhbZt2/Loo48ayr/++mueffZZAgICcHZ2xtnZmR49evDBBx+Ua6OkpARFUXjooYc4ffo048aNw8PDAysrK77//nug4jlYJSUlvPXWW0b3oH///nzxxRfl6k6fPh1FUQxt3u6DDz5AURRWr15tVL5t2zYGDhxI27Ztsbe3p127djzwwAMV3o+KJCYmcvPmTV577bUqHSdETcgIlhDV4O/vz8iRI1m1ahWfffYZf/nLXyqsm5OTQ48ePbh27RqPPfYYI0eO5OrVq5w4cYJ33nmHBQsWADBjxgxWrFhBZmYmM2bMMBwfEhJi1N7Jkyfp1asXnTt35umnnyY3Nxc7O7s7xrxgwQK2b9/OyJEjGTx4MFu2bGHevHns37+fL774olpzv1q0aMGMGTN4++23AfjrX/9qeO/2ZMSUEydOEBERwfnz5xkyZAidO3fmyJEjLF++nE2bNvHDDz9w7733ljtu9OjR7Nmzh0cffRRra2vWrl3L5MmTsbW1JTo62lDv6aefZu3atXTt2pVnn30We3t7srKy+Pbbbxk4cCDBwcEVxlYW+x+vqywhUlWVkSNHotPp8Pf3Z/LkyVy7do21a9cyePBgkpOTmTJlSrl2P/30U7766isGDx7M888/z5UrVyq9RyNGjOAvf/kLa9euJTk5GScnJ6P3P/roI0pKSnjmmWewtrY2lL/++utkZmbSq1cv2rdvT35+Pl988QXR0dGcOHGCN954o9y5Ll68SK9evXB3d2f06NHcuHGD5s2bVxibqqpotVo2btxIQEAAL7zwAleuXGHt2rUMGjSIRYsW8fzzz1d6fZXZuHEjw4YNo2XLlgwdOpR77rmH8+fPc+DAAdasWcOzzz5rdlsPPfQQAwYMYP369ezevZtevXpVOy4hzKYKIYycOnVKBdSBAwdWWm/ZsmUqoI4dO9ZQ9u2336qAOmPGDEPZP/7xDxVQk5OTy7Vx4cIFo9f9+vVTK/qxLIsLUOPi4kzW8fb2Vr29vY3KZsyYoQJqs2bN1F9++cVQXlxcrA4YMEAF1FWrVlV6DX+M4emnn77jee90TP/+/VVAXbp0qVH50qVLVUB98MEHjcrL7k3Pnj3VgoICQ3laWppqY2OjBgQEGMry8/NVRVHU8PBwtaSkxKidkpISNS8vz2Ssf1TRda1atUoF1H79+ql6vd5Qnp2drbZp00a1tbVVf/vtN0P5hx9+qAKqoijq1q1bzTp3mUmTJqmAumLFinLvBQUFqYB64sQJo/Lbz12mqKhI7d+/v2pjY6OePn3aUF5cXGz4vnruuefUmzdvlju2d+/eqrW1tVHZ8uXLDf1UVFRkKM/MzFRbt26t2tnZqZmZmYbyadOmqYC6c+fOcu3/85//VAH1o48+MpT9+c9/VgH1yJEj5epfvHixXJkpvXv3VgH1woUL6r59+1RFUdS+ffsa1Wnfvr3q5ORkVntCVIU8IhSimtq1awfc+svfHA4ODuXKqjMZ/p577mH69OlVPm7s2LF07tzZ8NrGxoa5c+cCsHLlyiq3VxPZ2dl88803BAUFGY06AURHRxMYGMjXX39t8lHh66+/jouLi+F1QEAAvXv3Jj093TAipCgKqqpib29vNLIDYG1tTYsWLWoU/4oVKwBISkoyGj309PTkb3/7G8XFxfzrX/8qd9ywYcN46KGHqnSu8ePHA7/PtSqze/dujh49Sr9+/cqN9HXs2LFcO7a2tkyaNImSkhKTS000a9aMN954Aysr834t3H4Pbp+j5uXlxYsvvkhRURFr1qwxq63KmPq5adWqVZXbCQsLY+TIkXz33Xds2rSpxnEJcSeSYAlRTaqZmyAMHjwYR0dHJk+ezBNPPMHy5cs5fvx4tc/brVs3sx4J/lGfPn3KlYWHh+Pg4MCBAweqHU917N+/H4B+/fqVezSpKAp9+/YF4ODBg+WODQsLK1fm6ekJQH5+PgAuLi488sgj/PDDD4SFhTF37lx27txJUVGRxeJ3cHCgR48e5d4re7xo6p6aqn8nPXr0oEuXLuzcudNoeZCyhKssAbvd5cuXiY+Pp2vXrjg7OxvmkI0cORLA5JIFfn5+uLm5mR3X/v37ad68ucn+qOwemOuJJ54Abn2PvvDCC+h0Oi5cuFDt9gDmzJmDra0tr776KqWlpTVqS4g7kQRLiGo6c+YMAO7u7pXW69ixIz/++CNDhgzhiy++YMKECQQEBKDRaPj000+rfN7qfhS/TZs2FZYXFBRUq83qunz5MlDxtdxzzz0AJuMytdxD2QTsmzdvGsrWrVvHa6+9Rn5+PtOmTaNv3760bt2av/71rxQWFtY4/urEXt2+mzBhAqqqGkaNCgsL+eSTT3BxcWHEiBFGdfV6PX379iUhIQFbW1vGjRvHtGnTmDFjBmPHjjXUqWlsV69erdY9MNeYMWP49NNPCQoKYsmSJWi1Wjw8PHjwwQc5dOhQtdr09fVl0qRJ/PLLL6xatarasQlhDkmwhKimsscs99133x3rdu3alZSUFHJzc/nxxx+Jj4/n3LlzjBw5kh9++KFK563uQqTnz5+vsPz2pKXsEVFJSUm5upZKxMoe8VW0MGZZ+e2PAqvKycmJOXPm8Ntvv/Hbb7+xbNkyNBoNycnJ/O1vf6t2u2VxVSf26vbd2LFjsbOzY+XKlZSWlpKSksLly5cZPXo0jo6ORnV1Oh0HDx4kJiaGffv2sXjxYhITE5k5cyYPP/xwheeoamzOzs5VugfV+b4aMWIEO3fuJDc3ly1btjB+/HjDhxTKkvSqio+Pp3nz5syYMcNkoimEpUiCJUQ1HD9+nLVr12Jvb8/w4cPNPs7W1pZevXoxa9Ys/vGPf6CqqtF8kLL5QrePxFjKzp07y5Xt3buX69evG31SsWXLlgD897//LVe/7NHeH1lbW1cp5rLzfffdd+Uetaqqaoj1j5+grK6OHTsyfvx4duzYgbOzMxs3bqxRe6GhoVy/fp2ffvqp3HtlS21YKna4Nedo6NChZGdns23btkrXvip7jPjnP/+53HumvgeqKzQ0lCtXrpCamlruPVP3oDrfV2VcXFx49NFH+eCDDxg7dixnz57l559/rlbc7u7uTJ06laysLN59991qtSGEOSTBEqKKvv/+ewYOHIher+fVV1+lffv2ldb/+eefTY4elf2Vf/sk3rI5MKdPn7ZgxLd89NFHHDlyxPC6pKTEsC7Q008/bSgvWztp48aN5ObmGsWbmJhosm03NzcuXrxYbk2tinh5efHAAw8YlmW43fLlyzly5Aj9+/enQ4cOZl/f7S5cuGAy+cnLy0Ov15ucOF0VZffr1Vdfpbi42FD+3//+l7feegsbGxvGjBlTo3P8UVkyNWvWLHbs2EFwcLDJ0VNvb2+AcutNffPNN+XudU2U3YNXXnnFaFQqOzubt99+G1tbW5588klDeXh4OACrVq0ymv/0/fff8+9//7tc+19//XW57ydVVQ0/SzXpw6lTp+Lh4cHcuXNr/LhYiIrIOlhCVODkyZOGxTKLioo4f/48e/bs4ZdffsHa2prp06cTHx9/x3b+9a9/sXjxYiIjI7n33ntxcXHh6NGjbNmyhdatWxtNUu7fvz/r1q3j8ccfZ9CgQTRr1ozg4GAee+yxGl/PQw89RK9evRg1ahRubm5s2bKFX375hYEDBxq2BAKws7PjhRdeYN68eYSFhTF06FCuXLnC559/Tr9+/Uzuw9i/f3/27t3LkCFD6NOnD3Z2dkRERBAREVFhPO+99x4RERFER0fz+eefExQUxNGjR9m4cSPu7u6899571b7W//73v/Ts2ZPOnTsTFhZG+/btuXTpEhs2bKC4uJjY2Nhqtw23HtnpdDo2bNhA165dGTx4sGEdrEuXLrFgwQJ8fX1rdI4/GjBgAB06dGDXrl1AxSu3Dx06FC8vL15//XUOHTpEYGAg6enpbNq0ieHDh5OSkmKReJ555hl0Oh2bN2823IOrV6/yySefkJubS3JysiHZg1uLld5333189dVX9O7dm4iICE6dOsXnn3/OkCFD+Oyzz4zaf/HFFzlz5gz9+vXDx8cHRVH47rvv2Lt3L3379q3RWlbOzs7ExcXxwgsvAJRbX0wIi6jHJSKEuCvdvt5U2ZeDg4Patm1b9YEHHlDj4uLUkydPmjzW1BpSu3fvVidNmqR26dJFbdGiherg4KB26tRJnTJlipqVlWV0fHFxsRobG6t6eXmpNjY2RutHVbSe1O0qWwfr22+/VZcuXaoGBQWp9vb2qqenp/rKK6+ohYWF5dopKSlR4+Pj1Q4dOqh2dnaqv7+/mpycrP72228mY7hy5YoaHR2ttm3bVrWysjK6B5XFnZGRoT777LNq27ZtVRsbG7Vt27bqs88+q2ZkZJSrW9kaYU8//bQKqKdOnVJVVVXz8vLUmTNnqn379lXbtm2r2tnZqe3atVMfeeQR9csvv6zw/v1RZet7FRcXq2+++aYaHBys2tvbq82bN1f79eunbtiwoVzdsnWwPvzwQ7PPbUp8fLwKqHZ2dpWuBXXy5Ek1KipKdXd3Vx0dHdUePXqon376qbp161YVUBMSEoyuAxPrjt3O1DpYqnprba2kpCS1S5cuhnsQGRmpbtq0yWQ7586dU8eMGaO2bNlSdXBwUP/0pz+pW7duNbkO1po1a9THH39c9fX1VR0dHdUWLVqoISEh6ptvvqleu3bNnNtltA6WqdjvvfdeFZB1sEStUFTVzM+aCyGEEEIIs8gcLCGEEEIIC5MESwghhBDCwiTBEkIIIYSwMEmwhBBCCCEsTBIsIYQQQggLkwRLCCGEEMLCGlWCpaoqly9fLrf1hhBCCCFEXWpUCdaVK1dwdXXlypUrd6xrqU1rRf2Tvmw8pC8bF+nPxkP6suoaVYJVFbWxma6oH9KXjYf0ZeMi/dl4SF9WXZNNsIQQQgghaoskWEIIIYQQFiYJlhBCCCGEhdnUdwBCCCGEsLyrV6+Sk5NDaWlpjdvKz8+nRYsWFoiq4bKysqJFixa0bt0aK6s7j0/VeoJ14sQJnn76aS5evEiLFi1YsWIFQUFB5eolJiby4YcfAvDkk0+SkJAAwI0bN4iJiWHfvn2oqoqvry/Lly+ndevWtR26EEII0SDt3r2bl156iaKiIou0V1paalZS0RR0796d+Ph42rdvX2m9Wk+wJk2axMSJE3nmmWdYt24dEyZM4McffzSq89133/Hxxx9z6NAhbGxs6N27NxEREQwcOJClS5dy9epVDh06hKIoREdHk5SURFJSUm2HLkzQ6XTMSpjD8fQ0/AM0zIibRlRUVH2HJYQQ4n+uXr3KSy+9RHh4ONHR0dja2ta4zZKSEmxsmvZDr5s3b3L69GkWLVrE6NGj2bZtG3Z2dhXWr9W7df78eVJTU/nqq68A0Gq1vPDCC2RkZODj42Oo98knn/DMM8/g5OQEwPjx4/n4448ZOHAgAIWFhRQXF2NlZcXVq1cJDg6uzbBFBXQ6HVqtFqXzANTBMzl8dCtarZaUlBRJsoQQ4i6Rk5NDUVER0dHRFvt9KQnWLZ07d8bDw4PnnnuOrKws7r333grr1up4X3Z2Nu3atTN0iqIoeHl5kZWVZVQvKysLb29vw2sfHx9DnUmTJuHi4kKbNm3w8PCgoKCAF154odLzXr582ehLr9db+MqaplkJc24lV1M2wYC/ok7ZhBL0ELMT59Z3aEIIIf6nbM6VJUauRHnNmjUDbiWdlan1dFRRFKPXFW1jc3u92+ts27YNRVE4e/YsVlZWPPPMM8yePZuZM2dWeM4OHToYvY6NjeXvf/+7UVleXp65lyD+Jz09DXXwTCjrK0VB7fwwaZtmkpubW29xSV82HtKXjYv0Z/3Iz8+ntLSUkpKSOyYB5qppO/feey/NmjXjwIEDhkGXnj17kpSURL9+/e54fEZGBhMmTODAgQPce++97Nmzx+j95cuXM3/+fEpLS3nggQd49913jUbc9Ho9I0aMYMeOHaxcuZLhw4cb3svJyeG5554jMzMTOzs7NBoNixYtws3NzWQsJSUllJaWkp+fb/S774/1azXB6tChA6dPnzYMLaqqSnZ2Nl5eXkb1vLy8yMjIMLzOzMw01FmyZAnjxo0zZIxjxowhKSmp0gQrOzsbFxcXw2t7e3vs7e3L1avo5olbdDodcxJmk5aejiYggHs8PMg6uhX1oRdvJVmqinLkKzSBgfV+L+v7/MJypC8bF+nPuteiRQusrKywsbGx6GO9mral1+tZuXIlkyZNAm4NrFhbW5vVrpubG3PmzKGgoIAZM2YYHXPq1ClmzpzJ/v37adOmDUOHDjU6T1FREaNGjcLf35+FCxcybNgw7O3t+fOf/wzcyhHi4+OJiIgA4OWXX2b69Om8//77Fd6Hsk8UVvb9XauPCNu0aUNoaCirV68GICUlBR8fH6P5VwCPP/44K1eu5Nq1a+j1epYvX86oUaMA8PX15csvv0RVVVRVZdOmTXTp0qXS87q4uBh9mUquROXK5ls55+UwNdwb57wcMjNOoR7ZipL8GGx9GyX5MdSj25gxfVp9hyuEEKKGdDod3UK74+DoRLfQ7uh0Oou2P2vWLBISEigsLKzysW5ubkRERBjmat9u3bp1DB8+HA8PDxRFISYmho8//hiA4uJiRo4cSZ8+fUhOTkaj0bBjxw7mzZvHpk2bAPDw8DAkV3BrZO23336r5lX+rtY/c7l06VKWLl2Kv78/8+bNY9myZQAMGjSIvXv3AhAZGckTTzxBcHAwgYGBPPzwwzzyyCMAzJw5k4KCAjp37kyXLl24ePGiYQkHUXvmJMymr7c7q4eGMjHMh9VDQ+nj3Rq/jh3pap9Hs00z6Wqfh06nMxpqFUII0fCU/VF9uLgVNwbP5HBxK7RarUWTrLCwMPr27cvChQuNyletWkVISIjJr0WLFt2x3crmcdva2rJ+/XpiY2MN73t4eLBr1y4GDx5crq2bN2+yaNEihgwZUt3LNKj1OVgBAQHllmUA2LJli9Hr+Ph44uPjy9Vzc3Nj3bp1tRafMC0tPZ2p4d6GuXGKohDp1YoFezO5ZoHMXgghxN3D6ENMioL60IsoyY8xO3GuRT8lnpiYSM+ePYmJiTGUjRs3jnHjxtWo3YrmcVeFqqo8//zztGjRgr/85S81igdkqxxRAU1AADuycg3fqKqqsj3rEoEaTT1HJoQQwtKOp6ehBg0o9yGm9LRjFj2Pr68vo0ePJjEx0VBW0xGsyuZxV8WUKVPIzs7mk08+sciiqrKohTBpWlw8Wq2WMRtSifRqxfasS+zMvIhuoelJf0IIIRou/wANh018iCkgMNDi54qLiyMoKMiwjERNR7C0Wi0RERHEx8fTpk0blixZYpjHba4pU6Zw8uRJPvvss0oXD60KGcESJkVFRZGSkkKhmycL9mZS6OYp862EEKKRmhE3rc4+xOTu7s6UKVM4c+aM2cfo9Xo8PT15/PHHOXToEJ6enrz66qvArVGxWbNm0bt3b/z8/GjTpg0TJkwwu+0ffviBd955h4yMDHr27ElISIhFftcpanUfVt6FLl++jKurKwUFBUbLNJiSm5srHx9uJKQvGw/py8ZF+rN+pKWl8dRTT7F69Wo0VZjWodPpmJ04l/S0YwRoApkRN82QaMhK7r8z9/7K3RJCCCEEUVFRsu2ZBckjQiGEEEIIC5MESwghhBDCwiTBEkIIIYSwMEmwhBBCCCEsTBIsIYQQQggLkwRLCCGEEMLCJMESQgghRK3y8fFBo9FQUlJiKAsPD2f79u1mHZ+RkUFkZCSurq6Eh4eXe3/ZsmV06tQJPz8/Jk6caHQeuLVQ6aBBg3B0dCy3gfW1a9fo2bMn3bp1o1u3bjzyyCNGW+9UlyRYAp1OR0hYCA6ODoSEhVh093QhhBACbiU5y5Ytq9axLi4uJCYmsmbNmnLvnTp1iri4OL7//ntOnjzJ2bNnjc5TVFTEiBEj6NSpE6mpqbz22mts3LjR8L6DgwPbtm3j4MGDHDx4kEceeYSXXnqpWnHeThKsJk6n06HVaskuOUO74X5kl5xBq9VKkiWEEE2MTqeje2gITo4OdA+1/B/bs2bNIiEhgcLCwiof6+bmRkREBE5OTuXeW7duHcOHD8fDwwNFUYiJieHjjz8GoLi4mJEjR9KnTx+Sk5PRaDTs2LGDefPmsWnTJgCsrKxo3rw5AKqqcvnyZdnsWdTc7MTZuAW3oXNsTxRFof2jvhxJ2kPCnARZ0VcIIZqIsj+2+3q7MzXcmx1ZOWi1WlJSUiz2uyAsLIy+ffuycOFCpk37fY/DVatW8dZbb5k8Jjo6msmTJ1fablZWFt7e3obXPj4+ZGVlAWBra8v69euN6nt4eLBr165y7Tz00EMcPnwYd3d3vvrqK7OvqyKSYDVx6WnptBvuh6IoACiKQotgd9LWp9VzZEIIIerKnITZ9PV2Z/XQUBRFITrUmzEbUpmbaNk/thMTE+nZsycxMTGGsnHjxjFu3LgatVv2OwxujUJVx7Zt2ygtLWXOnDkkJiayePHiGsUkjwibEFNzrQI0AeQfvmD4hlRVlfzDF9AEmr9BqBBCiIYtLT2dfl5uRn9sR3q14liaZf/Y9vX1ZfTo0SQmJhrKVq1aRUhIiMmvRYsW3bFNLy8vo0npmZmZeHl5VSs+KysroqOj+eijj6p1/O1kBKuJKBv+dQtuc2uu1eFbc61efvll5s+fz56JX3GzuARrWxuKruv5QLekvkMWQghRRzQBAezIyiE61BtFUVBVle1ZlwjUWP6P7bi4OIKCgrC1tQVqPoKl1WqJiIggPj6eNm3asGTJEkaNGmX28efOncPW1hY3NzcA/v3vf9O1a9dqx1NGEqwmoqK5Vp+u+xSAru6h9PSJYE/G9+zN2l3tIVYhhBANz7S4eLRaLWM2pBLp1YrtWZfYmXkR3cL3LX4ud3d3pkyZQnx8vNnH6PV6/Pz80Ov1FBQU4OnpydixY3n99dfx9fVl1qxZ9O7dm9LSUvr378+ECRPMbvv06dNER0dTUlKCqqr4+fmxevXq6lyaEUVtRL9JL1++jKurKwUFBbi4uFRaNzc315CtNgUOjg60G+6H5yA/Q9npLb+S9Uk6YR168Oaw9wx/tUxdH8NNNz37UvfVY8Tma2p92ZhJXzYu0p/1Iy0tjaeeeorVq1ejqcIIlE6nY25iAsfS0gjUaJgWF8/w4cMBKCkpwcZGxmTA/Psrd6uJCNAEkH34DO0f9TUkUmVzr+7zut/ouXsP7958+HPNJvcJIYRoWKKiouTT4xYkk9ybiPjp8eQePs+RpD2c3vIrR5L2kHv4PN7e3vyctctokvtPmT9U6a8eIYQQQhiTEawmIioqipSUFBLmJJC2Pg1NoIYPdEtQVRWtVsvU9TH08O7NT5k/8HPmj+gWykKjQgghRHVJgtWEVDT8m5KSwpzEOXz482I0Gg26hTrDc3chhBBCVJ08ImzgLLG1we7du0lPP8qNG4Wkpx/lxx9/rIVIhRBCiKZDEqwGrGxtK+e8HKaGe+Ocl1PlfQRjY2OZP38+fp6ljB3SHD/PUubPn09sbGwtRi6EEEI0bpJgNWC3b20wMcyH1UND6ePdmrmJCWa3sXjRO3T1tyNuUkuGRDoRN6klwZ3seG/xu7UYuRBCiKbEx8cHjUZDSUmJoSw8PJzt27ebdXxGRgaRkZG4uroSHh5e7v1ly5bRqVMn/Pz8mDhxotF54NY6WoMpsZLOAAAgAElEQVQGDcLR0bHSQYjx48ejKApXr14178IqIQlWA2aJrQ2uX79BqMbeqI2wQHsKC6/XSsxCCCGaJr1ez7Jly6p1rIuLC4mJiaxZs6bce6dOnSIuLo7vv/+ekydPcvbsWaPzFBUVMWLECDp16kRqaiqvvfYaGzduLNfO559/brSnYU1JgtWA3draINdoiYXKtjbQ6XSEhXbD0dGBsNBu6HQ6HByasT9Nb9RG6jE9jo4OdXYdQggh6p+p/WotadasWSQkJFBYWFjlY93c3IiIiMDJyance+vWrWP48OF4eHigKAoxMTF8/PHHABQXFzNy5Ej69OlDcnIyGo2GHTt2MG/ePDZt2mRo49KlS8yaNYu33nqr+hf4B5JgNWDT4uL5LvMCYzak8n5qBmM2pLIz8yLT4spvP1A2X+tmYRpPDLDlZmEaWq2WhwYM5NDxImYvyePz7deYvSSPwyeKeH7yX/6XkIXh5OhEWGiYxX/YhBBC3B3Kfkdkl5y5tV9tyZkqz+m9k7CwMPr27cvChQuNymu62XNWVhbe3t6G1z4+PmRlZQFga2vL+vXrjeYVe3h4sGvXLgYPHmwomzx5MjNnzsTV1bWml2kgCVYDVra2VaGbJwv2ZlLo5olOZ3qJhZf/30sm51odPnyQl19+mVM51nz0+RVO5VgTGxtLz5490Wq12OY78Ox9z2Ob72DxHzYhhBB3h9v3q/Uc5Efn2J64BbchYY75c3rNkZiYyNtvv82lS5cMZePGjePAgQMmvyZPnmxWu7c/2qvqDoCffvopdnZ2RgmXJcg6WA2cuVsbZGZl8dRjzuXmWq3enElSUhJJSUlG9cNCw7jXPYD8woss+/EfeLX0wc/dnzmJc2QrBSGEaGTS09JpN9zP6HdEi2B30tabP6fXHL6+vowePZrExERD2apVqyp8NBcdHX3HJMvLy4uMjAzD68zMTLy8vMyO6dtvv+Wbb77Bx8fHUNa5c2c2bdpEcHCw2e38kSRYTYSCwoG0Igb3czTsRbj/WBEKpif0HTl6hKKiIrr5N2NkL3sOpGVx8PgN7Ars6jhyIYQQta2i/Wo1gZbfNi0uLo6goCBsbW2BWyNY48aNq3Z7Wq2WiIgI4uPjadOmDUuWLGHUqFFmH7948WIWL/59/11FUThy5AjOzs7VjgkkwWoyWrVy5+DxcyQszSdUY8f+tCIOndDj4eFhsr6tjTUaHzumT3JFURQG91OZvaSUUznWdRy5EEKI2hY/PR6tVsuRpD20CHYn//AFcg+f5wPdEoufy93dnSlTphAfX36+cEX0ej1+fn7o9XoKCgrw9PRk7NixvP766/j6+jJr1ix69+5NaWkp/fv3Z8KECRaPu6okwWoimjk6AvBbljXHfi3E3tYeAAfH8p/IACi5WUKoplm5R4rHs27UTcBCCCHqTEX71Vpq27TbH+HBrVGsuLg4s4+3t7fn9OnTFb4fHR1NdHR0dcMzUtU5XBWRBKuJOHfuHPxpLNf/+wvq2XSutwkAz2DO7l9nsn5QYCAH0tONHymmFdE5KKiOIxdCCFEXzJ3TK8wjCVYT4R+g4fDls9ycthsUBVQVJfkxAgIDTdafHjcDrVZL4vsFhATYciC9mEPH9eh0M+o4ciGEEKLhkWUamogZcdNQj2xFSX4Mtr6NkvwY6tFtzJg+zWT9suFia8cA1m4txtoxoMIlIIQQQghhTBKsJqIsYepqn0ezTTPpap93x4QpKiqKfakHKCy8zr7UA5JcCSGEEGaSR4RNiDxfF0IIIeqGjGAJIYQQQliYJFhCCCGEEBYmCZYQQgghapWPjw8ajYaSkhJDWXh4ONu3bzfr+IyMDCIjI3F1dSU8PLzc+8uWLaNTp074+fkxceJEo/PArYVKBw0ahKOjo8k9dRVFoWvXroZNpnfu3Fm1CzRBEqxGaNiwYdjaWGNlpWBrY82wYcPqOyQhhBBNnF6vZ9myZdU61sXFhcTERNasWVPuvVOnThEXF8f333/PyZMnOXv2rNF5ioqKGDFiBJ06dSI1NZXXXnuNjRs3lmtn165dhk2m+/TpU604bycJViMzbNgwNmzYQJCfDeOGNCfIz4YNGzYwbNgwdDod3UNDcHJ0oHtoiMks/nY6nY6QsBAcHB0ICbtVX6fTERbaDUdHB8JCu92xDSGEEA3Drf/fw3BydCIsNMzi/7/PmjWLhIQECgsLq3ysm5sbERERODmV331k3bp1DB8+HA8PDxRFISYmho8//hiA4uJiRo4cSZ8+fUhOTkaj0bBjxw7mzZvHpk2banxNlZEEq5HZvOlzuvrbETepJUMinYib1JLgTnZs3vQ5Wq0W57wcpoZ745yXg1arrfAHSKfTodVqyS45Q7vhfmSXnEGr1aLValFvHOeJAbaoN45X2oYQQoiGoez/fNt8B56973ls8x0s/v97WFgYffv2ZeHChUblq1atMjya++PXokWL7thuVlYW3t7ehtc+Pj5kZWUBYGtry/r164mNjTW87+Hhwa5duxg8eLBRO5GRkXTr1o2XXnqJa9eu1eRSAVmmodG5WVpKqMa+3B6Cv5wsoq+3O6uHhqIoCtGh3ozZkMrcxASTSzfMTpyNW3AbOsf2RFEU2j/qy+5JXxDoacW06N83gE58H+YkzpblH4QQogFLTEikh8/9vDnsPRRFYWTYWKauj2FO4hyL/v+emJhIz549iYmJMZSNGzeOcePG1ajdst95UL29BDMzM/Hy8uLatWvExMTw8ssvs3jx4hrFJCNYjYy1lRX70/SGbzBVVUk9psdKgX5ebkaJV6RXK46lpZlsJz0tnRbB7kb1bxbdLJe8hQTYciwtvQ6uTAghRG1JT0/nPq/7jf5/7+Hdm7QKfkdUl6+vL6NHjyYxMdFQVtMRLC8vL6PNpMuSpaooq+/k5MTzzz9vkUnuMoLVyDw2eAgbNmxg9pI8wgLtST2m5/CJIlxdXNiRlUt0qLdh8+btWZcI1GhMthOgCSD78BnaP+prqG9lrbA/TW+0AXTqMT1t27ar46sUQghhSQEBAfyctYuRYWMN/7//lPkDmgp+R9REXFwcQUFB2NraAjUfwdJqtURERBAfH0+bNm1YsmQJo0aNMvv4vLw87O3tcXR0pLS0lE8++YTQ0NBqx1NGEqxG5rPPPmPYsGFs2fw5v5wswsbaimHDhjF27Fi0Wi1jNqQS6dWK7VmX2Jl5Ed3C9022Ez89Hq1Wy5GkPbQIdif/8AVK9XDoeBEJS/MJ1dixP62IwyeK8O0oA6FCCNGQTY+bjlarZer6GHp49+anzB/4OfNHdAstP8fW3d2dKVOmEB8fb/Yxer0ePz8/9Ho9BQUFeHp6MnbsWF5//XV8fX2ZNWsWvXv3prS0lP79+zNhwgSz205LS2PSpEkoikJJSQlhYWEkJydX59KMqY1IQUGBCqgFBQV3rHvp0qU6iOjukpKSonYPDVEdHZqp3UNDVJ1Od8f6IWEhajOHZmpIWIhqb2evPhL0ZzXAI0BtZmunBngEqI8GDVUdHRzr6ApMa4p92VhJXzYu0p/149ixY2r37t3VY8eOVem4lJQUNSw0THV0cFTDQsOMfkcUFxdbOswGy9z7KyNYTUhV9yL8Y/2w0DBy8y/yz9FrDUPIU9fH1MoQshBCiLol+9ValiRYwmx1OYQshBBCNGSSYAmzRUVF3fro6qL32Je1BwcHR2JjYxk+fHh9hyaEEELcVWR2sjCbTqdj/vz52Ps54jM6EHs/R5KSkmShUSGEEOIPJMESZrt98VHPQX50ju2JW3AbEuYk1HdoQgghxF1FEixhNlOLj7YIdiftmGUXohNCCCEaOkmwhNkCNAHkH75gtEp8/uELaAI1JjeGFkIIIeDW/oAajYaSkhJDWXh4ONu3bzfr+IyMDCIjI3F1dSU8PLzc+8uWLaNTp074+fkxceJEo/PArXW0Bg0ahKOjo8nfT3l5eYwZM4ZOnToRGBjIK6+8UrULNEESLGG2+Onx5B4+z5GkPZze8itHkvaQe/g8Dz/0sMmNoSXJEkIIUUav17Ns2bJqHevi4kJiYiJr1qwp996pU6eIi4vj+++/5+TJk5w9e9boPEVFRYwYMYJOnTqRmprKa6+9xsaNG43aGD9+PKGhoZw4cYJjx47x4osvVivO20mCJcwWFRVFSkoKXrbtyFn/K1627dDpdHy59UuZmyWEEKJSs2bNIiEhgcLCwiof6+bmRkREBE5OTuXeW7duHcOHD8fDwwNFUYiJieHjjz8GoLi4mJEjR9KnTx+Sk5PRaDTs2LGDefPmsWnTJgBOnjxJamoqL730kqHNtm3bVvMqfycJlqiSqKgo9u/bz/XC6+zft5/hw4fL3CwhhGgEdDodYaHdcHR0ICy0m8WfQoSFhdG3b18WLlxoVF7TzZ6zsrLw9vY2vPbx8SErKwsAW1tb1q9fT2xsrOF9Dw8Pdu3axeDBgwE4evQoHTp0ICYmhrCwMB5++GH2799f4+uVdbBEjZnaGLpsbpYQQoi7n06nQ6vVEqJpxhMDbDl4/DharZaUlBSLru6emJhIz549iYmJMZTVdLNnwPAHPmCYJ2yu4uJifvzxRxISEnj//ff58ssvGTJkCBkZGdjYVD9NkgRL1JipjaFzD5/nA92S+g5NCCGEGRITZhGiaca0aFcURWFwP5XE92FO4myLJli+vr6MHj2axMREQ9mqVat46623TNaPjo5m8uTJlbbp5eVFRkaG4XVmZiZeXl5mx+Tt7U379u154IEHABg4cCBFRUWcPn0aHx8fs9v5I0mwRI2Vzc1KmJNA2vo0NIEaPtAtkRXehRCigUhLP84TA2yNpnqEBNiydmu6xc8VFxdHUFAQtra2QM1HsLRaLREREcTHx9OmTRuWLFnCqFGjzD6+e/fuuLi4cOjQIbp27crevXsBaN++fbVjAkmwhIXIJqFCCNFwaQL8OXj8OIP7qYapHgfSiwnUBFj8XO7u7kyZMoX4+Hizj9Hr9fj5+aHX6ykoKMDT05OxY8fy+uuv4+vry6xZs+jduzelpaX079+fCRMmmN22oiisWLGC5557jhs3btCsWTNSUlIMCWB1SYIlLCI2NpbFi97l+vXrODg48PzkF0hKSqrvsIQQQphhetwMtFotie9DSIAtB9KLOZh+A51uhkXav/0RHtwaxYqLizP7eHt7e06fPl3h+9HR0URHR1c3PMLDw/npp5+qfbwp8ilCUWOxsbHMnz8fP8+bjB3SHD/Pm8yfP9/oUxtCCCHuXmVTPawdA1i7tRhrxwB0Op1M9agBSbAaIZ1OR/fQEJwcHegeatlV1U21vXjRu3T1tyNuUkuGRDoRN6klwZ3seG/xuxY7rxBCiNoVFRXFvtQDFBZeZ1/qAUmuakgSrEam7KO2znk5TA33xjkvx2KrqlfU9vXr1wnV2BtNjgwLtKew8HqNzymEEEI0RJJgNTJzEmbT19ud1UNDmRjmw+qhofTxbs3cxJqvql5R21ZWVuxP0xvtUZh6TI+Do0ONzymEEEI0RLWeYJ04cYL7778ff39/evTowdGjR03WS0xMxM/PDz8/v3IT33bs2MF9991H586d0Wg0/Pjjj7UddoOVlp5OPy83o9GkSK9WHEur+arqFbWNonDoeBGzl+Tx+fZrzF6Sx+ETRUye/Jcan1MIIUTVWFnd+tVeXFxcz5E0Tjdu3AC44yKktf4pwkmTJjFx4kSeeeYZ1q1bx4QJE8olSN999x0ff/wxhw4dwsbGht69exMREcHAgQPJycnh6aef5osvviAwMJAbN24YLk7cemw3O3E26WnpBGgC8PDwYEdWLtGh3oaP2m7PukSgpuJV1XU6HbMS5nA8PQ3/AA0z4qYRFRVVrrztPfeYbLtbcDCeXt5s3vw5v5wswtraimHDhvHGG29U+VpMxSGEEMJ87dq1w87Ojn/+859ER0fXeLkBgJKSkhqtat4Y3Lx5k9OnT/Puu+/i6Oh4x8VMFbWqa8pXwfnz5/H39+fixYvY2Nigqipt27Zl9+7dRqujTp48GR8fH15++WUAFi9ezE8//cSKFSuYPn06gNGqrxW5fPkyrq6uFBQU4OLiUmnd3Nxc3Nzcqn9xd4GyOVFuwW2MVlAH6OPdmkivVmzPusTOzIsVfhqkrA2l8wDUoAEoR7eiHtnKyy+/zPz588uVm2o7NjaWpKSkcnWrssVCRXGY00Zj6Etxi/Rl4yL9WX92797NSy+9RFFRkUXaKy0tNYyMNXXdu3cnPj7+jguR1mqCtW/fPsaOHWv0WLBHjx68+eab9O3b11A2ZMgQxo4dyxNPPAHAli1bePPNN/nmm2+IioqiY8eOHDx4kIsXL9KnTx/eeOMNHB0dy52vLMHKzs42SrDs7e2xt7c3qtsYfvBDwkL49dIpFAUKz1zFsa0zqgruNq1wc3XlWFoagRoN0+LiK/w0SLfQ7hwuboU6ZRMoCqgqSvJj2GfuQe/Tq1y51/XfaN3CxajtmbMTTbbR1T6PA6l7zbqWiuIwp43G0JfiFunLxkX6s35dvXqVnJwcSktLa9xWfn4+LVq0sEBUDZeVlRUtW7akVatWZiWbtT7ed/sGjFDxJowVbdRYXFzM9u3b2bZtG82bN2f8+PHMnDmz0kUsO3ToYPQ6NjaWv//970ZleXl5Zl/D3erokaMUFxXT1d+O0Eec2J92g0PHi9DbXWfvz8ZJSW5ursk20tPTUAfPvJXUACgKaueHuZH2LQQNKFd+dtNMUvf+/Ic2njLZRtqmmRWe19w4zGmjMfSluEX6snGR/qx/rVu3tkg7tra2tGzZ0iJtNXT5+fkmy//4x0StJlgdOnTg9OnThme3qqqSnZ1d7rllZRs1ent7ExoaaujYUaNG3XGFcHNGsKD8zWhorK0g8H/rT93anNOR2UvyOJFt/rUFBGg4fHQr6kMv/j5ydOQr7B0c0Zso1wQGlmu7ojZM1a1qHOa20dD7UvxO+rJxkf5sPKQvq6ZWH6i2adOG0NBQVq9eDUBKSgo+Pj7ldqd+/PHHWblyJdeuXUOv17N8+XLDRo1PPvkk3377LXq9HoD//Oc/dOvWrdLzuri4GH2ZSq4ag6KiEpPrTxUVmf/JkRlx01CPbEVJfgy2vo2S/Bjq0W1Mmfx/JstnTJ9mdhum6lY1jqq0IYQQQtwtan3G2tKlS1m6dCn+/v7MmzePZcuWATBo0CDDjtWRkZE88cQTBAcHExgYyMMPP8wjjzwCwP3338+QIUMICQkhODiYCxcuMHv27NoOu0GwUhQOpBUZrT+1/1gRVn94LFuZsu0Rutrn0WzTTLra56HT6XjjjTdMlpuay1VRG1VZBdgSbQghhBB3i1qd5F7XmtqnCH07+nIq4xRd/e0J1dixP62IQ8f1+Hb05dfffq3v8OpMY+hLcYv0ZeMi/dl4SF9WnXzmsgF7c8GbAPyWZc2azYX8lmVtVH430Ol0hIWG4eToRFhomEX3RRRCCCHuVpJgNWBlj9X8AzXY2tnjH6i5qx6rla1tZZvvwLP3PY9tvoPF9kUUQggh7mbyiFDUmrDQMGzzHXhz2HuGld+nro/hppuefan7LHYe6cvGQ/qycZH+bDykL6tORrBErUlPT+c+r/uNPuXYw7s3aRbYF1EIIYS4m0mCJWpNQEAAP2ftMvqU40+ZP6CpZF9EIYQQojFo2js3ilo1PW46Wq2Wv+km0sunD7szdrIvaw+6hTIHSwghROMmCZaodYcvHuBAzl6s7W59uzWiaX9CCCGESZJgiVozO3E2bsFt6Bzb0zDJ/UjSHhLmJBAVFVXf4QkhhBC1RhIsUWvS09JxDXfnYNwOruVcxamdMw4dXEnbK5PchRBCNG4yyV3UGo97PDi3Mxsf+xs89YgTPvY3OLczm3vuuae+QxNCCCFqlYxgiVpjDXT1tyNuYksURWFwP0dmL8mj8GZ9RyaEEELULhnBErXmzNlzhGrsjdbBCgu0J+fM2XqOTAghhKhdkmCJWqMJ8Ofg8WKjdbAOpBcTqAmo58iEEEKI2iWPCEWtmR43A61WS+L7EBJgy4H0Yg6m30Cnm1HfoQkhhBC1SkawRK0p24za2jGAtVuLsXYMuKs2oxZCCCFqi4xgiVoVFRUla14JIYRocmQES9QqnU5H99AQnBwd6B4agk4n2+QIIYRo/CTBErVGp9Oh1Wpxzstharg3znk5aLVaSbKEEEI0eoraiDaGu3z5Mq6urhQUFODi4lJp3dzcXNzc3Ooosqape2gIznk5rB4aatgqZ8yGVArdPNmbut9i55G+bDykLxsX6c/GQ/qy6mQES9SatPR0+nm5Ga2DFenVimNpslWOEEKIxk0SLGERpuZaaQIC2JGVa7QO1vasSwRqNPUcrRBCCFG7JMESNVbRXKsHBzzMd5kXGLMhlfdTMxizIZWdmReZFhdf3yELIYQQtUoSLFFjcxJm09fbndVDQ5kY5sPqoaH08W7NN9u2kpKSQqGbJwv2ZlLo5inrYAkhhGgSZB0sUWNp6elMDfcuN9dqwd40WQdLCCFEkyQjWKLGZK6VEEIIYUwSLFFj0+LiqzzXSqfTERIWgoOjAyFhsgCpEEKIxkUSLFFjZXsOmjvXqmxSfHbJGdoN9yO75IwsQCqEEKJRkYVGRZ0LCQshu+QMnWN7GhYgPZK0By/bduzfV/UFSKUvGw/py8ZF+rPxkL6sOpnkLupcelo6ruHuHJz+PYVnruDYtjkOXs6k7ZUFSIUQQjQO8ohQ1DmPezw4tzMbfwKY1Ouv+BPAuZ3Z3HPPPfUdmhBCCGERMoIl6pw11oR79eKt4UtRFIWRYWP5W8pE8pWL9R2aEEIIYRGSYIk6d/bsWfw7duG5NY+TlZeBV0sffFtrOHbqcH2HJoQQQliEPCJsIHQ6Hd1Cu+Pg6ES30O6VfuKuKnVrm6lYPDw8+M/RjTi0yGLko/Y4tMjiP0c34nGPh9lt1GZ8QgghRE1JgtUAlC1rcLi4FTcGz+RwcasKlzWoSt36ivv69at09bdj+iRXhkQ6MX2SK8Gd7LBSyn+gtTav5266V0IIIRoXWaahAegW2p3Dxa1Qp2wCRQFVRUl+jK72eRxI3VvtuvUVt1X61zz1mDNDIp0MdT/ffo21W4spLLxe5eupbl/eTfdK3NKQfi7FnUl/Nh7Sl1UnI1gNwPH0NNSgAbeSAABFQe38MOlpx2pUt7ZVFIuCwsHjxUZb6xxILyZQE2B2G5a4nrvpXgkhhGhcJMFqAPwDNLB7NdYJ4Vi94IJ1Qjj8uJqAwECTdZWjW6FsYFJVUY58ZbJubasolvZePhxIu0Hi+wV8vv0aie8XcDD9BtPjZpjdhiWu5266V0IIIRoXkwnWu+++S35+fl3HIiowcMCDkH2IPyn/ZVpPb/6k/BdOH2LgQw+Wqzsjbhrqka0oyY/B1rdRkh9DPbqNGdOn1XncFcWycMGbpKSkYO0YwNqtxVg7BlS4tU5tXs/ddK+EEEI0MqoJjo6OqoODgzp69Gj166+/NlXlrlRQUKACakFBwR3rXrp0qQ4isoywkG5qUOvmauc2zVUHWyu1c5vmamDr5mr30BCT9VNSUtRuod3VZg6OarfQ7qpOp6vjiC0by53aqElf3k33SjSsn0txZ9KfjYf0ZdWZnOR++fJl1qxZw4cffsjPP/+Mj48P48eP55lnnsHT07Me0kDzNNZJ7vb2dhQVFdPV345QjT370/QcOl6EnZ0ten1RfYdX7xpSX4rKSV82LtKfjYf0ZdWZfETo4uJCTEwMe/bs4dChQwwdOpR33nmHjh07MmjQIFJSUiguLq7rWJssKyvo6m9H3KSWDIl0Im5SS4I72WFtpdR3aBal0+noHhqCk6MD3UNDZLkEIYQQDdYdJ7l36dKFhQsXsn//fnr37s1//vMfHn/8cdq3b8+MGTO4fv36nZoQNVRUVEKoxh7lf592UxSFsEB79EWNJ8ktW5PKOS+HqeHeOOflyJpUQgghGqxKEyxVVfniiy8YMWIEvr6+pKWl8fLLL7Nr1y5iYmJ45513eOqpp+oq1iZLUWB/mt5oWYPUY3rD6gKNwZyE2fT1dmf10FAmhvmwemgofbxbMzcxob5DE0IIIarM5F6Ev/76K8uXL2fVqlXk5OQwYMAA/vWvfzF06FBsbG4d0qtXL8LDwxk1alSdBtwU2Vjbcei4noSl+YRq7NifVsThE0U0s29W36FZTFp6OlPDvY1G6SK9WrFgb1o9RyaEEEJUnckRrE6dOrFq1SqeffZZfvvtN/7zn/+g1WoNyVUZjUZDz5496yTQpu6RoD+jL/Dhky/06At8eDRoKCY+n9BgaQIC2JGVazRKtz3rEoEaTT1HJoQQQlSdyRGsDRs28Nhjj2FlVfkULX9/f7799ttaCUz8LigoiEt5F/jn6LUoioKqqry0fhKdO3eu79AsZlpcPFqtljEbUon0asX2rEvszLyIbuH79R2aEEIIUWUmM6j169eTmZlp8oDMzEzGjx9fq0EJY9PjpvNz5o9MXR/Dv/etYur6GPZm7mZ63PT6Ds1ioqKiSElJodDNkwV7Myl086xw8VEhhBDibmcywVq5ciUXLlwwecDFixdZuXJlrQYljJUlHzfd9Hz482JuuukbZfIRFRXF3tT9XCu8zt7U/Y3u+oQQQjQdJh8RqqpqmGz8RydOnKBVq1a1GpQoLyoqiqioqPoOQwghhBBmMCRY7733Hu+99x5w6xNcTz75JA4ODkaVb9y4QUZGBo8//njdRimEEEII0YAYEqx27drRvXt3AH755RcCAgJwd3c3qmxnZ0dgYCATJkyo2yiFEEIIIRoQQ4I1dOhQhg4dangjLi4OX1/feglKCCGEEKIhMzkH68MPP6zrOIQQQgghGg1DgjVlyhT+3//7f3h5eTFlypRKD1IUheTk5FoPTgghhBCiITIkWJ9//jkTJkzAy8uLjRs3Vm0jcdsAACAASURBVPgpQpAESwghhBCiMoYE69SpU4bCjIyM+ohFNHGxsbEsXvQu169fx8HBgecnv0BSUlJ9hyWEEEJUmck5WELUtdjYWObPn09XfztCNc3Zn6Zn/vz5AJJkCSGEaHAU9X+766amplbpwLCwsFoJqCYuX76Mq6srBQUFuLi4VFo3NzcXNze3OopM3ImzkyN+njeJm9TSsN/i7CV5nMqx5srVwkqPlb5sPKQvGxfpz8ZD+rLqDCNY4eHhlc67KlO2yvvNmzdrNTDRtFy/fp1QTXPD96CiKIQF2nPk5JV6jkwIIYSoOkOC9e2339ZnHKKJc3BwYH+ansH9HA0jWKnH9Dg4Otz5YCGEEOIuY0iw+vXrV59xiCbuoQEPs2HDBmYvySMs0J7UY3oOnyhi2LBh9R2aEEIIUWUyyV3cFTKyMmjW2oG07CKOnLyCtb01zVo7kpGVUd+hCSGEEFVmSLC6du3KmjVr6NKlC8HBwXdcB+vgwYN1EqBoGtLT0mk33A/PQX6GstNbfiVtfVo9RiWEEEJUjyHB6t69O05OToZ/mzPhXQhLCdAEkH34DO0f9TXMwco/fAFNoKa+QxNCCCGqzJBg3b7/4IoVK+ojFgHodDrmJMwmLT0dTUAA0+LiiYqKqu+wal389Hi0Wi1HkvbQItid/MMXyD18ng90S+o7NCGEEKLKrOo7APE7nU6HVqvFOS+HqeHeOOfloNVq0el09R1arYuKiiIlJQUv23bkrP8VL9t26HQ6hg8fXt+hCSGEEFVmWGj0j44ePcrcuXPZvXs3Z86coW3btvTq1YtXXnmFLl261HWcZmnoC412Dw3BOS+H1UNDDY/JxmxIpdDNk72p++s7vLvW3diXonqkLxsX6c/GQ/qy6kyOYG3evJnQ0FB27drF4MGDmTZtGoMHD2bXrl10796dzZs313WcTUJaejr9vNyMFtuM9GrFsTSZ6C2EEEI0JCZHsIKCgujUqRPr16/Hyur3HKy0tJShQ4fy66+/cvTo0ToN1BwygtU03Y19KapH+rJxkf5sPKQvq87kCNapU6f4v//7P6PkCsDKyorJkydz6tSpOgmuqZkWF893mRcYsyGV91MzGLMhlZ2ZF5kWF1/foQkhhBCiCkwmWF27dq0wiTp16tRdOweroSub6F3o5smCvZkUunnKRG8hhBCiATKZYC1atIgFCxawcuVKCgoKACgoKGDFihUsWLCAxYsXm32CEydOcP/99+Pv70+PHj0qfLSYmJiIn58ffn5+xMXFlXv/woULeHh4MGLECLPP3RBFRUWxN3U/1wqvszd1vyRXQgghRANkSLCaN2+Oi4sLLi4u9O///9u797ioyn1/4J81AwwzoCgqeOGmKAwilwFvmYqVWpqmwrb22caxU+3cdfbu7H2UqY6AF9Rdou2zd7uOdc7J+nXxpDG9PJqmnVKzMlOwQGTAkGuYNxBFYLjM8/uDmByYUUYYZhg+79fLF/LMw1rfNd+Z4cuznvWse1FZWYnHH38cvr6+8PT0hK+vL5544glUVlbivvvu6/IOVqxYgaeeegpFRUXQarV44oknOvX54osvsGPHDuTm5uLMmTPYv38/Dhw4YNbnmWeewfz587txqH2DTqdDjCYeSpUXYjTxt12iwdb+zkKr1cLbywtymQzeXl7QarVW++p0OsTGxUKpUiI2LrbPHCMREfVfpoVGV65c2eOrt1+8eBE5OTk4ePAgACApKQm///3vUVpaipCQEFO/Dz74AI899phpJfnHH38cO3bswP333w8AeO+99+Dv74+JEydi7969PRqjM2lfB0uKnAOxYC3yznyKpKQkZGVlWVxs1Nb+zkKr1SIzMxPTg4bgnuBAHCq7jMzMTADA5s2bzfq2H6NvlB9GLglFRd75PnGMRETUv1ldB6snZGdnIzk52ey04OTJk7FlyxbMnDnT1LZw4UIkJyfj4YcfBgDs27cPW7Zsweeff46qqiosXLgQR44cwYcffoi9e/fiww8/tLi/9qsIKyoqzK4iVCgUUCgUZn2d8YqIGE088pqHQDy7F5AkQAhIf30Q0YoafJdzstv9nYW3lxc0Q5V4f3G86WrJf/goG99facD1GzfM+sbGxaKi5TwitVNMffM3H0eQ+0icym67stIZc0l3hrl0Lcyn62Aubed2+y7d03FUzFo9d3O/m/v89re/xebNm+Ht7d3lfQYGBpp9r9Vq8dxzz5m11dTUdHl7vaWwUA+xYG1bsQQAkgQRORf6vWtRXV3d7f7OoqGhAfcEB5qt93VvyFAcqyzqFHf7TaBv7jsoahj0H+lNfZ0xl3RnmEvXwny6Duby9joWoFYLrB9++AFvvfUWioqK0NjY2Onx//3f/73tzgIDA1FZWYmWlha4ublBCIGKigoEBQWZ9QsKCkJpaanp+7KyMlOfY8eOmeZt1dXVoaGhAffff3+nOVo368oIFtD5yXC08HA18s58CjH7X34Zkco/CHVEhMVYbe3vLJRKJQ6VXcZvNcGmUanPSy9DpVR2ijtcHY4fvizBpa8qUH++DqoR3jAaAXWE2qyvMx8v2Ya5dC3Mp+tgLm0kLPj222+FUqkUarVayGQyERsbK0aPHi0kSRKBgYHinnvusfRjFiUkJIjt27cLIYTYtWuXmDJlSqc+hw4dEpGRkaKurk40NjaK+Ph4sX///k79tm/fLpKSkqzuq7a2VgAQtbW1t43rypUrXT6G3pKVlSUACGn8bIGlm9u+AkKn0/VIf2eRkpIiAIi7A4eItBnh4u7AIQKA0Gq1nfouWrRIABDRYR5i+UMDRHSYhwAgFi9ebOrjjLmkO8Ncuhbm03Uwl7azWGDNmjVL/OM//qNoaWkRkiSJ7OxsIYQQX331lQgODhaffPJJl3eg1+vF1KlTxbhx40R8fLw4ffq0EEKIefPmiRMnTpj6rVu3TowePVqMHj1avPDCCxa35eoFlhBtRVOMJl54KlUiRhN/22LJ1v7OIiUlRXirVEImScJbpbJYXAkhhJfKU0SHeYhdW/3Fhy8PF7u2+ouocR7C20tp6uOsuSTbMZeuhfl0Hcyl7SxOcvf19cWOHTswd+5cyOVyfPnll5g2bRoAYPv27fjb3/6GU6ec79Ytff1WOdSZXCYheeEALJzlZWrbc/gG3tlzHa3Gtpcuc+k6mEvXwny6DubSdhYXGpUkCR4eHpAkCX5+figrKzM9FhAQgKKiol4LkPo3mUyGU3qD6cIHIQRyCgyQyS2+dImIiJyCxUnu48ePR3FxMe655x7cdddd2Lp1K6KiouDu7o4XX3wRoaGhvR0n9VeSDLlFTch4/So0ag+c0jch72wT3NzsfgEsERHRHbP4W+qpp54yjVpt2rQJc+fORUxMDADAy8vL6jpURD0takIUrv14A421Ej7YX4Ig39EIHSbgE9D1ZTuIiIh6m8UCKzk52fT/iIgIFBQU4Ouvv0ZjYyOmTp0KPz+/XguQ+rfUtFQkJSVhUvBdeOKuhfi27CucKDsG3eu8XQ4RETmvLk1k8fb2xty5c/HQQw+xuKJelZiYiKysLLT6GrD9xGto9TVAp9NhyZIl0Ol0iNfEInDUKMRreI9CIiJyHlYLrMuXLyM1NRWzZ89GZGQkZs+ejdTUVFy6dKk34+t3eGPjzhITE5Gdk40b9TeQnZNtKq6SkpLgXVOFlZOC4V1ThaSkJD5fRETkFCwu03D8+HE88MADaG1txb333gs/Pz9cvHgRn3/+OSRJwsGDBzFlyhRHxHtLfX2ZhptvbDwoahiu5l1Cdd5F3tjYgnhNLLxrqvDuIo1pNfhlu3NQ7xuAkznOt4QIdY0zvi/pzjGfroO5tJ3FAmvixInw9PTExx9/DB8fH1N7bW0t5s2bh+bmZpw4caJXA+2Kvl5gdeXGxtTGS6XEyonBeCouxNT2Rk4ptp4sw436BscFRt3ijO9LunPMp+tgLm1n8RRhfn4+nn/+ebPiCgB8fHzw/PPP4/Tp070SXH9TqC/EoKhhnW9sXKB3cGTORx0ejiPl1WbrYx0uv4IItdrBkREREVkpsMaOHYurV69a/IHa2lqMGTPGrkH1V+HqcFzNu2RWNFzNuwR1BIuGjlanpeOLsktYtjsHb+SUYtnuHBwtu4zVaemODo2IiMhygZWZmYk1a9bgyJEjZu2HDx/G2rVrsWXLll4Jrr9JT01Hdd5F5G8+jsp9xcjffBzVeReRnsqioaP2qwvrfQOw9UQZ6n0DTFcXEhEROZppDlZUVJTp1BQAVFVVoaamBj4+Phg2bBguXbqE2tpaDB48GCNHjkRubq7Dgramr8/BAtomumdszIC+QA91hBrpqeksGm7DWXNJtmMuXQvz6TqYS9uZFhqNj483K7Di4+MdElB/98033+CsvhBNjY04qy/EsWPHWGARERH1MaYC66233nJgGAQAWq0WmZmZiA7zgEY9AKf0BmRmZgIANm/e7ODoiIiIqKssLtNwsx9//NE0NDhq1KjeiuuO9PVThN5eKoQGtCJtxWDTMg3rt9WgpEqO63X1jg7PaTljLunOMJeuhfl0Hcyl7ayu5P7ee+9hzJgxCAoKQmxsLIKCgjBmzBi8//77vRlfv9LQ0ACNWmG2TENchAL1XNfJIp1OhzhNHAJGBSBOE8dV3ImIyGlYLLB27NiB5ORkhIWF4c0338S+ffvw5ptvIjw8HMnJyfif//mf3o6zX1AqlTilN5gt05BTYIBSpXRwZM6nfdV796tKPD75n+F+Vclb5RARkdOweIowOjoakyZNwn//9393+oEnnngCJ06c4FWEdtA+BytqnAfiIhTIKTAg72wTtFotXnrpJUeH51TiNHFwv6rElsX/YTqduvKj36HV14DsnGxHh0d3yBnfl3TnmE/XwVzazs1SY1FREbZu3WrxBx555BG89957dg2qv2qfyP4fr/0d+T9ch0qlZHFlRWFhIWaOno0n31+K8ppSBA0OwZihanyh/z9Hh0ZERGT5FOHQoUORn59v8Qfy8/MxdOhQuwbVn23evBnX6+rRahS4XlfP4soKf39/fHLmf6EcVI5H5imgHFSOT878L/yH+zs6NCIiIssjWI888ghWr14NpVKJhx9+GIMHD8bVq1exc+dOpKWl4emnn+7tOInMSJIR0WEeSF3hA0mSsCBBYP02I+pbb3lRLBERUa+wWGBt2rQJpaWlePrpp/HMM8/Azc0NLS0tEEIgKSkJGzdu7O04icyc/+kCHp7T+YrLnZ/+5ODIiIiIrBRYCoUCWVlZyMvLw9GjR1FTUwNfX19Mnz4dUVFRvR0jUSfq8DB8X1SEBQnCNMn9u8JmRKjDHR0aERFR5wKrsbERKSkpSE5OxuTJk1lQkVNKTVuDpKQkrN9mNLviUqdb4+jQiIiIOk9y9/T0xPbt29HQwMUtyfkV/mjEO/vqUPijEQBwmxsTEBER9QqLVxFOmzYNx48f7+1YiLps/Yb18I3yw5TX52H6Wwsx5fV58I3yQ8bGDEeHRkREZHkO1vr16/Hoo4/Czc0N8+bNg5+fn2kycTsuOEaOVKgvxMgloWaT3AdFDYP+I72DIyMiIrJSYE2bNg0AsGrVKqSkpFj8wdbWVvtFRXQb4epwVOSdx6h5Y0yT3K/mXYI6Qu3o0IiIiCwXWNu3b+/tOIhskp6ajqSkJORvPo5BUcNwNe8SqvMu4r902yz21+l02JixHvrCQqjDw7E6LR2JiYm9HDUREfUXZgVWfn4+Xn/9dZSUlGDkyJH41a9+hTlz5jgqNiKrEhMTkZWVhYyNGdB/pIc6Qo3/0m3DkiVLOvVtvzH0zOBhWDkxGEfKq5CUlISsrCwWWUREZBemmz1/+eWXuO+++9DS0oKhQ4eiuroaRqMRr776Kn73u985Os4u6es3e6Y7c7tcxmti4V1ThXcXaUynE5ftzkG9bwBO5pzqxUjpdvi+dC3Mp+tgLm1nuopw7dq1GD9+PEpLS3HhwgVcuXIFixcvRmpqqiPjI+o2fWEhEoJ8zSbEzwoaggI9J8QTEZF9mAqs3NxcpKWlITAwEAAwcOBAbN26FdXV1aioqHBYgH2dTqdDjCYeSpUXYjTx0Ol0jg7J5XV8zkcMH44j5dWmNbKEEDhcfgURausT4m3NG/NMREQ3MxVYly9fRkBAgNmD7cXW5cuXezcqF9E+9yeveQgaF6xFXvMQJCUl8ZevHVl6zotLSvFF2SUs252DN3JKsWx3Do6WXcbqtPQub+NWeWOeiYioI9McLJlMhuPHj2PSpEmmB1tbW+Hu7o7s7GxoNBqHBdlVzjYHK0YTj7zmIRDP7gUkCRAC0l8fRLSiBt/lnLTrvvuTm3Np7TkPajiHoYMGokCvR4RajdVp6RYnxN9qG9byxjz3HM7zcC3Mp+tgLm1ntpL7Pffcg4EDB5r+DR48GAAwY8YMs3YfHx+HBNvXFBXqIcbPafulCwCSBBE5F4X6AscG5sKsPecXfvoJJ3NO4UZ9A07mnLJaXN1qG9byxjwTEVFHpmUa1qzhTXJ7Wli4GnlnPoWY/S+/jGzkH0R4RISjQ3NZYeFq5H7zLnD8XeCnImB4GGCETc+5rXljnomIqCMWWHa0Jm01kpKSIP31QYjIuZDyD0Kc+T+s4dwcu7l/zn3IzcyEu8oNrcZWyC+fQXN9C+7/jbbL27A1b8wzERF1ZPFmz9Qz2hfDjFbUwHPvWkQraqDT6W55eoq6Z+eHOwEAEYEyJM/3RkRg20t8566dXd6GrXljnomIqCPTJHdX4GyT3Kl33JxLdzcZxoe6I23FYNOioutfr0FBcTOaW4wOjpRuh+9L18J8ug7m0nYcwSKXIgBo1AqzRUXj1Aq4zF8RRETUJ7DAIpcSHBSEU3qD2aKiOQUGhAQHOzgyIiLqT9xu34Wo78jc8jKSkpKwflsN4iIUyCkwIO9sE3S6lx0dGhER9SMssMgllVS4Q3+uHgp3TwBNcKGphkRE1AfwFKGD6HQ6xGti4aVSIl4Ty9uq9JANGRswOWQa9v3ua3z+7Cns+93XmBR8FzZu2Ojo0IiIqB9hgeUA7feu866pwsqJwfCuqeK963pIYWEhJgVNM5vkPjn4buj1egdHRkRE/QkLLAfYmLEeM4OH4d1FGjwVF4J3F2kwI3goNm3IcHRofV54eDhOlH9tNsn927KvoFarHRwZERH1J5yD5QD6wkKsnBhsNsoyK2gItp7kKEt3paalIikpCSs/+h0mB9+Nb8u+womyY9D9haODRETUeziC5QDq8HAcKa82G2U5XH4FERxl6bb2VdVbfQ3YfuI1tPoauKo6ERH1Oo5gOcDqtHQkJSVh2e4czAoagsPlV3C07DJ0f3nD0aG5hMTERCQmJjo6DCIi6sc4guUA7aMs9b4B2HqyDPW+ARxlsTOtVgtvL2/IZXJ4e3lDq+36zZ+JiIhsxREsB+EoS+/RarXIzMzExKCpmBIyHcdLv0RmZiYAYPPmzQ6OjoiIXBFv9kx93u1y6e3ljeGqUZDLgPKaUgQNDkFLq8DFxvO4Xne9FyOl2+H70rUwn66DubQdTxGSy6uvr0fx5SIoB5XjkXkKKAeV49yVs7hx44ajQyMiIhfFU4Tk8uRyCeND3ZG6wgeSJGFBgsD6bUYUlLQ4OjQiInJRHMEilyfJJGjUCrN1x+IifvmeiIiop7HAIpc3ITIS3+mbzNYdO6VvQtSECbwnJBER2QULLHJ5qWlr8H2RARveqMWewzew4Y1a5BYZMHvO/bwnJBER2QULLHJ57euOyVXh2PlpM+SqcOh0OvzfwQO8JyQREdkFCyzqFxITE5Gd8x3q6xuQnfMdlixZAn1hIRKCfDvdE7JAz3tCEhFR97DAIpfT1XlVvCckERHZCwsscik6na7L86pWp6Xji7JLWLY7B2/klGLZ7hwcLbuM1WnpDoiciIhcCQsscikbM9Z3eV4V7wlJRET2wgLLQXQ6HeI0cfBSeSFOE8cr13qIrfOqEhMTcTLnFG7UN+BkzikWV0RE1CNYYDlA+2mss/pCNDcZcFZfyOUBegjnVRERkTNggeUAq1auAgCEBhnxmwdVCA0ytrWvWuXIsFwC51UREZEzYIHlABUVZYgJUyB1hQ8WzvJC6gofRI9ToKK8zNGh9XmcV0VERM6ABZYDGIVArNrDbJ6QJsIDxp9Pa1H32DKvinPhiIjIHlhgOYCHhxtO6Q1m84RyCgzw8HB3cGT9C+fCERGRvbDAcoBWI5Bb1IT122qw5/ANrN9Wg7yzTWg1cgSrN3EuHBER2YubowPoj8ZHjkfxlRKUNQNnPqmD10hveAcpMXboaEeH1q/cPBdOkiQsSBDI2CZw5hznwhERUffYfQTr7NmzmDZtGsLCwjB58mScOXPGYr8NGzYgNDQUoaGhSEtLM7V/8MEH0Gg0mDBhAqKiovDKK6/YO2S7S09NR135NbgN8ETwryLgNsATdeW1SE/llW69ScDyXDgBjiQSEVH32L3AWrFiBZ566ikUFRVBq9XiiSee6NTniy++wI4dO5Cbm4szZ85g//79OHDgAAAgICAA+/fvx+nTp/Hll1/ir3/9K7766it7h21XiYmJSElJQcO5Opz7nzNoOFcHrVbLK91spNPpEKOJx8iAQMRo4m85d6q9r1LlZeobHBRkcS5cSHCwTdtxBGeJg4iIrBB2dOHCBeHj4yOam5uFEEIYjUbh7+8vSkpKzPo988wzYvPmzabvX331VbF8+XKL23zwwQfFO++8Y/Gx2tpaAUDU1tbeNrYrV6507SDsICsrSwAQUuQcgaWb274CIisry2Ex9TW2PIfW+i5atEgAEFHjPMTyhwaIqHEeAoDQarXd3qc9OUsc9uDI9yX1PObTdTCXtpOEsN/aANnZ2UhOTjY7LTh58mRs2bIFM2fONLUtXLgQycnJePjhhwEA+/btw5YtW/D555+bbe/MmTOYMWMG8vLyMHLkyE77u3btGnx8fFBRUYGBAwea2hUKBRQKhVnf6upq+Pr69shx2ipGE4+85iEQz+4FJAkQAtJfH0S0ogbf5Zx0SEx9jS3PobW+nmVfQz7EDTIZcKOqbS6c0Shh7NDROJV9qlv7tCdnicMeHPm+pJ7HfLoO5tJ2dp/k3j6/pZ21eu7mfpb6VFZWYtGiRdi2bZvF4upmgYGBZt9rtVo899xzZm01NTW33IY9FRbqIRasbfvlCACSBBE5F/q9a1FdXe2wuPoSW55Da30b9J9hzPTxCJgfaupbua8Y+o/0FvPgLHlzljjswZHvS+p5zKfrYC5vr2MBatcCKzAwEJWVlWhpaYGbmxuEEKioqEBQUJBZv6CgIJSWlpq+LysrM+tTVVWF2bNnIzU1FUuXLr3tfrsyggV0fjJ6S3i4GnlnPoWY/S+/jEDkH4Q6IoJ/IXSRLc+htb6eSiWu5l3CqHljIEkShBC4mncJ6gg1Dh8+jPUb1qNQX4hwdTjSU9OdJm/OEoe9uMIx0C+YT9fBXNrI3ucgExISxPbt24UQQuzatUtMmTKlU59Dhw6JyMhIUVdXJxobG0V8fLzYv3+/EEKIqqoqoVarxZtvvnnbffW5OVjjZ7fNoRk/WwAQOp3OYTH1NbY8h9b6arVaAUD4RvmJMb+JFL5RfrdsT0lJcYq8ufLrh/M8XAvz6TqYS9vZvcDS6/Vi6tSpYty4cSI+Pl6cPn1aCCHEvHnzxIkTJ0z91q1bJ0aPHi1Gjx4tXnjhBVP7k08+KVQqlYiJiTH9s1Zs9ZUCS4i2X5IxmnjhqVSJGE28S/xy7G3tz6GiC8+htec7KytLxMbFCk+lp4iNixU6nU7EaGKEb5SfmPHOQjHz3YfEjHcWCt8oPxEbF+s0eXOWOHqao9+X1LOYT9fBXNrOrpPce1v7JPfa2lqzU4SW9NaEPZ1Oh40Z66EvLIQ6PByr09KRmJho9/32Jz2dS6VKiZFLQjvNzar6qBgN9Q09th/qjBNpXQvz6TqYS9txJXc7ar/X3czgYVg5MRhHyquQlJSErKwsFllOLFwdjuIvS3DpqwrUn6+DaoQ3hADUEWpHh0ZERH0E70VoRxsz1mNm8DC8u0iDp+JC8O4iDWYED8WmDRmODo1uYe7suagrv4bRikY8+oAXRisaUVd+DXNnz3V0aERE1EewwLIjfWEhEoJ8zW7FMitoCAr0egdHRreS9eFORId5IG3FYCyc5YW0FYMRNc4DH36409GhERFRH8ECy47U4eE4Ul5tdiuWw+VXEKHmqSZnVlZeDo1aYVYYx0UoUFbGm0ATEVHXsMCyo9Vp6fii7BKW7c7BGzmlWLY7B0fLLmN1Gm/q7Oy+0zeZFcanCpocHBEREfUlLLDsKDExEVlZWaj3DcDWk2Wo9w2ATqfjTZ2dnLvcA98XGZDx+lXsOXwDGa9fRe5ZA9zlnRerJSIisoRXEdpZYmIirxjsY4wwAgDOlclRUFwPhZvi5/ZWR4ZFRER9CAssog4mjB+Pxh9LIJdk+KG6CaN9PNAi5FAFhN7+h4mIiMBThESdrE5Lx5lL1zBI6YZVd4VikNINBZeuc+4cERF1GQssog44d46IiLqLpwiJLODcOSIi6g6OYBHZQKfTIU4TA5VKiThNDHQ6naNDIiIiJ8QCi6iL2u8t2Vqvx8Nz3NFar0dSUhKLLCIi6kQS7aspuoBr167Bx8cHtbW1GDhw4C378s7grqO3chk6JgTe7ueRtmIwJEmCEALrt9XgRutIFBeX2H3//QHfl66F+XQdzKXtOIJF1EW8hQ4REXUVCyyiLpIgWbyFjgTJwZEREZGz4VWERF0UGBiM74tKkPH6VWjUHjilb0LuWQPGjB7j6NCIiMjJcASLqIu2bN0CADhXLsf7H9fjXLncrJ2IiKgdCyyiLmpfgDQsQg13DwXCItRcgJSIiCxigUVkg8TERGTnZONG/Q1k52SbiiudTofYuFgoVUrExsVy6QYion6O5BieVAAAIABJREFUBRZRN7Wvj3WmMB9NzQacKczn+lhERP0cCywiG1gaqfrXVf8KAIgIlCF5vjciAtveVitXrXRkqERE5EC8ipCoi9pHqnyj/DBySSgq8s4jKSkJcrmE6DAPpD3VtgDpggQV1m+rQcE5ro9FRNRfcQSLqIvWb1gP3yg/RGqnIGB+KCK1U+Ab5QdhFBYXIDVauUeCTqdDvCYWXiol4jWcr0VE5IpYYBF1UaG+EIOihpkVUm3fA6f0BrMFSHMKDHB3k3faRvsomHdNFVZODIZ3TRXnaxERuSDei5D6vN7KZWxcLCpaziNSO8V0L8L8zcdRk3cJAgLRYYpfFiAtMkAmydBqbDXbRrwmFt41VXh3kca0jWW7c1DvG4CTOafsfgzOju9L18J8ug7m0nYcwbIznU6HOE0MVCol4jQxHKnow9JT01GddxH5m4+jcl8x8jcfR3XeRchlcoQODUNjbQg+2G9AY20IQoeOg0zW+e2lLyxEQpCv2SjYrKAhKNDre/twiIjIjlhg2VH76SDRWISH57hDNBbxdFAf1r7QaJD7SFR9VIwg95HQ6XQIDBqF4stF8FEMwhN3PQsfxSAUXz6LoKCATttQh4fjSHm12enEw+VXEKFW9/bhEBGRHfEUoR3FaWJgbChE6lODTKeDMl6/CjcvNbJzvrPrvvsTRw9dtxfSAxUKNLa0wNPNDdcMBmi1Wnx68BPoC4ugDg9DatoaAEBSUhJmBA/FrKAhOFx+BUfLLnNF+J85OpfUs5hP18Fc2o4jWHZ0pqAAseEeZqeDNGoP5J854+DIqCe1j2yNGx8BNw93jBsfAa1Wi82bN6O1Xo+H57ijtV6PpKQkAEBWVhbqfQOw9WQZ6n0DWFwREbkgjmDZkbeXCqEBrUhbMdg0grV+Ww3OVclRV1dv1333J874l1XomBB4u5/vlPsbrSNRXFzi6PCcljPmku4c8+k6mEvbcQTLjppbWpFb1ISM169iz+EbyHj9KvLONqG5ufX2P0x9Wll5ucW1scrK7Lv4qE6nQ4wmHkqVF2I08bed72drfyIi6hoWWHYUMCqg09VlY4aMQ2BAoKNDIzuTIOE7fZPZZPZTBU2QINltn+1zwfKah6BxwVrkNQ+55UUVtvYnIqKu4ylCOwoZE4KykjLEB0/B1OAZ+KbsKLLLjiNkTAhKeJqoxzjj0PWY0WNQUlrSaW2sMaPHoPhcsV32GaOJR17zEIhn9wKSBAgB6a8PIlpRg+9yTna7f29wxlzSnWM+XQdzaTuOYNnRhZ8uwH9GIM5KRXj9m3/HWakI/jMC8dP5nxwdGtnZlq1bAADnyuV4/+N6nCuXm9q1Wi28vbwhl8nh7eUNrVbbI/ssKtRDjJ/TViwBgCRBRM5Fob6gR/oTEVHXscCyo3B1OJqvGhCTMR3T3pyPmIzpaL5qgDqCax71VV29j2BiYiJSUlIgZDK0GgWETAatVotjx44hMzMTUquAXCZBahXIzMzskSIrLFwN6cynQPugtBCQ8g8iPCKiR/oTEZENhAupra0VAERtbe1t+165csXu8WRlZQkAwjfKT4z5TaTwjfITAIROp7P7vvuT3silEL/kc2bwMJE2I1zMDB4mAIisrCyrfTvm3t3NQwAQMWGeYvlDA0RMmKcAIDwVnj0WnzR+tsDSzW1fb/F6s7V/b+itXFLvYD5dB3NpO87BsjOdToeMjRnQF+ihjlAjPTWdax71sN7KpS33EbR238Kr+RcRNVaB1BU3LT677Sryiw1oae3+W1Gn02H9hk0o1BcgXB2BNWmrb/l6s7W/vXGeh2thPl0Hc2k7FljU5/VWLr1USqycGIyn4kJMbW/klGLryTLcqG8w66tUKTFySSgC5oea2ir3FaN0Rz6SFw7AwllepvY9h2/gnT3X0Wp0mbfiHeP70rUwn66DubQd52ARdZEt9xEMV4ejJu+SWd+a3Itwc3fDKb3BrD2nwAA/f7/eOxAiIrI7FlhEXbQ6LR1flF3Cst05eCOnFMt25+Bo2WWsTkvv1Hfu7LmoybuIvBePoXJfMfJePIaa05cwf/4C5BY1Yf22Guw5fAPrt9Ug72wTXnttW9vVhd5KyGUSvL2VPXZ1IRER9T4WWERd1H7Pwa7cR/CzTw9i/LCBGHm5CT/u0mPk5SZEDBuAirJSZGVlwd07Ajs/bYa7dwR0Op3p6sLQUUYkLxyA0FHGHru6kIiIeh/nYFGf54y5tGW+FgAolR4IC5I63bvwbAXQ0GDoxcgdyxlzSXeO+XQdzKXtOIJFZAe2zNcCgCZDs8V7FzYZmqDT6RAbFwulSonYOOtrbxERkfNggUVkB7bM1wLaFlO3eO9CCUhKSkJFy3mMXBKKipbzvF8gEVEfwAKLyA5sma8FAEOH+uP7IgMyXr+KPYdvIOP1q8g9a4BM7gHvoIFovtaIsg8L0HytEd5BA5GxMaOXj4iIiGzBOVjU57lCLnU6HZKSkuCtUMHQYoDCTYE6Qz3kbnK0trQiOtwDmnAFThUakFvYBHcPdzQZmhwddo9zhVzSL5hP18Fc2o4jWEROoP3ehZC33bsQ8rZ7F3oq3BEd5oG0pwZj4SwvpD01GFHjPODh7ubokImI6BZYYBE5AZ1Oh8zMTMQNU2L19HGIG6bE5s2b0dRkZfJ7UxPiNHHwUnkhThPHOVlERE6GBRaRE9iYsR4zg4fh3UUaPBUXgncXaTAjeCjkcrnFld9bWlpxVl+I5iYDzuoLOfGdiMjJsMAicgL6wkIkBPmajVTNChqCpqYW5BY1mU1+zzvbBCGA0CAjfvOgCqFBRgDAqlWrHHkIRER0ExZYPUin0yFeEwsvlRLxGq5XRF1nbd0sCRIeGP8QDLUh+GC/AYbaEMhlQEyYAqkrfLBwlhdSV/ggepwCFeVlfA0SETkJFlg9xHQVWE0VVk4MhndNFU/bUJdZWzdr2LBhuFx3Ef/5Dzvx6e9P4j//YSeEAGLVHmajXZoIDxiF4GuQiMhJsMDqIdbm0GzawPWK6PasrZulVCpwsvwbrNQ9hf/J/n9YqXsKkGBxXpYEYPywgaiub8aWY8Worm9GxLABfA0SETkAC6weYm0OTYFe7+DIqK9ITEzEyZxTuFHfgJM5p7BkyRJcuHABv4oYicbGQrz59b+jsbEQRgHkFjVh/bYa7Dl8A+u31SDvbBNajQJnLl1D6bUmtAiB0mtNKLh0HXn5+bzdDhFRL+NiOj1EHR6OLH0JdIVVOFdzA2MGe8EoYPXec0RdoQ4Px8WaKnz868mmm0AH//0g/KYHoqyiFmc+qYPXSG/4z/DHpS9/hFEYERpsRKxahe/0zfi+CIBRQlJSEnyj/Nput5PXdrudrKwsJCYmOvoQiYhcEkewesh9c+bizKVrkA8y4OF5XpAPMqDg0nXcN2euo0OjPszS3CwBCYbqBsRkJODuNxcgJiMBhuoGQDJanPzeamyCb5QfIrVTEDA/FJHaKfCN8uPtdoiI7IgFVg/J+nBn24rbK35ecXtF24rbH36409GhUR9maW6WdlUKruZfRt6Lx1C5rxh5Lx7D1fzLgNXJ74D7IAW+TzuCrx7fi+/TjsB9kAL6Ap6+JiKyFxZYPaS0rNziitulpWUOjoz6uo5zs1566SVkZWUhRBGAqo+KEaJomxAvySSLk98B4MLRCoR4NOLRB7wQ4tGIC0crMHz4cOh0Oq4IT0RkByyweogEYfXKLqKelpiYiFPZp9BQ34BT2W0T4gOCgixOfneTyyyOrtZerUFSUlKXV4S35xpb7dsOHDWK63cRkUtggdVDhJBZWXGbJRb1jpe3vAwAKPzRiHf21aHwx7YV3luNwuLo6tWaWgCdV4R//PHH4e3lDblMDm8vb2i1Wruu82a27Ulcv4uIXIMk2odcXMC1a9fg4+OD2tpaDBw48JZ9q6ur4evr22P7Dh0TCum6G+RyCeXVJQjyHY2WFiMkHyN+KP6hx/ZDnfV0LvsynU6HjI0Z0BfooY5QIz01HQ8v/RUiQ92RumKQ6UrEjG1XkV9swISxCrP29dtqcPqHJnh5qGBoMUDhpkCdoR5+w4ZBrQLeXaQx9V22Owf1vgE4mXOqWzHHa2LhXVNll22TY/G96TqYS9txBKuHZG7JRPHlIgxQDMITdz2LAYpBOHflLDK3ZDo6NOpHLJ06DAwMxvdFBrPR1dyzBosrwg/xkbXd5zD451Gt4LZRrcuXr6C5pQXq/ziE4L99CvV/HEJLSysK9Ppur7HFNeSIyBWxwOoh7Vd7iSHN2H7iNYghzdDpdFiyZImjQ6N+bsvWLQCAc2VyvP9xPc6VyQEAPj4DO80b/Pa0AdFhHp2WepAkI479WAOZzB1ymQSZzB3HfqyBu7sHkpKSUNFyvm2NrZbztz2913Eu14jhwy3eh/FO1pDjvRiJyFlwodEelJiYyIUbyWnJ0Arp568A0HrTivBxEQrkFBjQYOg8X0sT4YHcs21XI3ZcxPR6XR08hypxvegKrp6+CLmHHJ5DlcjYmGHxvdA+32pm8DCsnBiMI+VVyCm7hGIAy3bnYFbQEBwuv4KjZZeh+8sbNh2fpW1zQVUichTOwaI+j7m8NWtznL6suAK/uwPQUFGLG1VtK8LXn6/D+GA3pK0YbDYv60xxU6f5WhnbruL0DwYYBRAd5gGNWoFTegNyi5ogd5PjX//0r3jttVfQUN8IpcoTzzzzB3z26UFcPFeE6oYWNLa0wtNNjsFKORRDhmPwoEEoKNAjIkKN1WnpNo/+ci6X8+F703Uwl7bjCBaRi9MXFmLlxOBOc5y+rLiCpppGxGQkmAqS7H87jNyi62ajWnlnmyBJlhcxPV1sQPQ4D1NBtiBBhfXbapBf3IzMzMyfC68BOKU3IDMz07Qfb4UKcpkRMpk7frxWD1ldOQYM8oFRAlogcCd/91k7zq0nOZeLiHof52DdAc7zoL5EHR5ucY6Tws0dNacvIf+lthXh8186hvqK6xg1wBOiVoGd+29A1CoQMWwA3N3dLC9iKmBxCQhAWFx7S0Lbz3ecRG80GnE6NxdNjY04nZtrmsfVthBqDFQqJeI0Mab3mqWJ9daOk/cDJSKHEC6ktrZWABC1tbW37XvlypU72kdWVpYAIAYq3IS7XBIDFW4CgMjKyrqj7VH33Wku+4v21+yM4KEibUa4mBE8VAAQWq1WABDenm7CTS4T3p5tr+Vb9Y0a5yGWPzRARI3zEACEh4ebiA7zELu2+osPXx4udm31F1HjPIRMglj+0ADx4cvDTf+WPzRAyGQQMWEKs/5BI9r2Gx3Wtu3osLZtDxw40GJ7SkqKACDkcknIpLavN7cPVHgID7lcDFS09dfpdA55zmM0McJT6SliNDH99vOB703XwVzajiNYNlq18l8BACHBMvzmQW+EBLc9hSmrVjoyLCKrLN3PUKfTmW65Ex4xAR4eHgiPmACdTnfLvu7eEdj5aTPcvSOg0+kwyGewxdXjIQHf6ZvMRpNOFTRZvF9ifYPR4mjXjbprFtv/8petAIDIUHckLxyAyFB3AMDrr78OADDCDeLnrwDw9ttvw9tLBblMgreXClqtFgCsjo51V/tke1uurCQiF2TvCq6oqEjcddddYty4cWLSpEkiPz/fYr+MjAwxZswYMWbMGJGamtrlx27WGyNYcrlk8S92uVy6o+1R9/EvK8dRKT3FXaMGCy8PuZBJEF4ecjFt1GAhg+zn0SfFz6NPCgFAyGTo9P6RyyyPdkm3GAWzNmoGQMSEeYrlDw0QMWGephG5jqNgixYtstielZUlFi1aJNzkMiFJEG5ymVi0aJEQQlhst9QWo4kRnkOVwl3R9py4K+TCc6hSxMbFWn0es7KyhCY2WiiVnkITG20a8UpJSRFeKi8hk2TCS+UlUlJSbrkNZxs143vTdTCXtrN7gXXPPfeI7du3CyGE2LVrl5g6dWqnPkeOHBHjx48XdXV1orGxUcTHx4tPPvnkto91dKcFVmhoqJDLICQJQi6DCA0Ntdpu9dSH1PbhHB0bJzyVKhEdG+cUH3D9gbO+8a29HnqqvSdi6a642BgxM3iYKH92rqj4l/tF+bNzxYzgocLTo61g8VaohLtcLrwVKgFA+PsN63Sq0VrBJLdwOjF6nMKm048qT2t/EFnep5eX0mLh5e/vb7HdWpuldrmb3GJB1n4K11oR2PE5DA0NtbqNjqdNe6JgtNZXiPYCUNlWXKuUpgLQUrstfZ1p2652PPZ+riz9sWDtD4ieaLfntrvLrgXWhQsXhI+Pj2hubhZCCGE0GoW/v78oKSkx6/fMM8+IzZs3m75/9dVXxfLly2/7WEd3UmCFhoZa/HBzc7M8L8TSh3j0OIWQy9o+VKXIOQJLN7d95dysXuGMBVb7L7yOr4f2eULdbbfldWUtlp54bd5uftdAheLn+VAK03yorKwsEaeJEUqlp4jTxIjFixdbnN8lk3V9FMzavC83t54ZHZNbaLdavFmLT2a58FJ6etyyf1dG5Dx+Lmi72m5LwWitr7XPzkmTJnV529b62tpuz2272vHYc9vtfxTEqttes7HqX16zHdvaP9u6227PbXf3M9Ku62BlZ2cjOTkZZ86cMbVNnjwZW7ZswcyZM01tCxcuRHJyMh5++GEAwL59+7BlyxZ8/vnnt3yso/Z1sCoqKszWwVIoFFAoFGZ929f0cJNLiBzrYXHdH0vt+T80/bzujwIatQdO6ZuQW2SATJJBjL8P4tm9gCQBQkD664OIVtTgu5yTPfq8kjlnXJ8lRhOPvOYhnV4PirLjMIRM7Xa7La8ra7H01GtTp9Nh04YMFOj1iFD/soaVtXZLtFot/uO1v6O+vgEqlRLP/PMfkLklE8Io4O2pgqHZAIW7AnWN9aafiRrnYbaUhEwGTOjwnl2++iLGBrnbtK5X8sIBWDjLy7SfPYdv4P/tuY5/7ND+a+1PWDa/a333HL6Bd/Ze7xRf+2eKpX2+s/c6ojrEeKvjseVzzFI7t+0c++yr216/rQYFJc2YMFaB1b/1MbU/lnoRoYHm+9zwRi1+qATGBcKsr63t9tz2hjdqIVeFIzvnuzv+bLT7Oljtk1nbWavnbu7Xsc+tHrMkMDDQ7HutVovnnnvOrK2mpgYAYBSWLzM//UOT1XYAOFcuR0FxPRTubYWbEUZg/Jy2X2BtPwARORf6vWtRXV1925jpzrXn0pkUFuohFqzt9Hpo1B+y+Dqxtd2W15W1WHrqtTlr1izMmjXLrK26utpquyXPP/88nn/+edTU1GDw4MEA2m7xowocAJlMDnG+CTJ/BbyMctT/WIepIwYht+wa8n+4DqW7HNNGDcax81c7rUxf3yg6teWdbYIEyXR/RtMfSmcNkMmAU3oDFiSoTB+0OQUGyKTO7R5uUpf73mpJi/ziJnynbzLrb+2CgKaWzivt3+7zqqvt3LZz7LOvbru9PSbM3azd0Nx5n7Hh7sgruo6YsAHdarfntmPD3bHzU71Nn5Ed/9C3a4EVGBiIyspKtLS0wM3NDUIIVFRUICgoyKxfUFAQSktLTd+XlZWZ+tzqMWu6MoIFtD0Z1j4Mb9XeKoAmqRVGqe0rALh7eKLlzKcQs//ll1GC/INQR0Q43eiKK3K25zg8XI08C68HhVIFQw+02/K6shaLs74222MKDgxESWkZfCcMRdDd4biaewHXTtfA08MD7m5uKPjdfab35rLdORgdHIxzJaUo/NGI/JI6uHnITds8U9KM0z80QSZv+wAd6j8Uly5c6vSHkkKhRG5RQ6eCbPjw4cgt+qlLxdvYsWORW/RDp3a5zHJBBgGLxZ7cQrFna1FnSzu37Rz77KvbzikwQC6X8H1RMxYkCFO7wr3zPr8rbIZS5dmpr63t9tz2d4XNiFCru/cZeZtTiN2WkJBgNsl9ypQpnfocOnRIREZGmk1k379//20f66g7c7A6zv9on4PVsX348OFt81lUAwTc3Nu+3jTnRBo/u22ey/jZpjknZF9OPQerw+vB2uvE1nZbXlfWYnHG1+bNuWyPu+M6Xe3PScd5X+3zu2LjYoWn0lPExsXesg2A8FAphNxNLjxUv8wRW7RokXB3a5vQ7e4mE4sXLxZCCIvt1vqmpKQIb6+2CcDeXkqh1WpN81M6fqaMHTu27Tg7TGa3NjftVtvoanv751hXtm2tr7VtT548ucvbttbX1nZ7btvVjsee225/zcaE/zxvMPyXeVId29rfx91tt+e2u/sZafcCS6/Xi6lTp4px48aJ+Ph4cfr0aSGEEPPmzRMnTpww9Vu3bp0YPXq0GD16tHjhhRfMtnGrx27WvasIpZ+vFpTE2LFjb9nedjl0vPBUqkSMJt6UBGvtZF/OWGAJYfvrxJ6vq77y2uyYy6ysLBGviRUqpaeI18SaPSeW2m1hqfCyt1sXZN5CJsmEt5e30Gq1phhvviDgVgWgpaLuVvu0pWC0dZ+W2m3p60zbdrXjsfdzZek1a6nNWl9b2+257e7izZ6pz2MuXQdz6VqYT9fBXNquX67kbjAY8NJLL8FgMDg6FOom5tJ1MJeuhfl0HczlnemXI1i2jHSRc2MuXQdz6VqYT9fBXN6ZfjmCRURERGRPLLCIiIiIepjdFxrtTe1nO69du3bLfu2P364fOT/m0nUwl66F+XQdzGXXDRhw04KlrjQHq7KystMq7kRERES94eZ5ai5VYBmNRlRVVZlVkERERES9wWVHsIiIiIicASe5ExEREfUwFlhEREREPazfFVhnz57FtGnTEBYWhsmTJ+PMmTOODom6qLGxEYsXL0ZYWBhiY2PxwAMPoLS0FABw8eJFPPDAAxg3bhwmTJiAL7/80rHBUpetW7cOkiTh9OnTAPge7YsMBgN+//vfY9y4cYiMjMSjjz4KgLnsqw4cOID4+HhoNBpMmDABb7/9NgB+ztqs23cz7GPuuecesX37diGEELt27RJTp051bEDUZQ0NDeLjjz8WRqNRCCHEK6+8IubMmSOEEOKf/umfxJo1a4QQQnz77bciKChINDc3OypU6qLs7GzxwAMPiKCgIJGXlyeE4Hu0L/rjH/8o/vCHP5jem1VVVUII5rIvMhqNwtfXV3z//fdCCCFKSkqEQqEQ165d4+esjfpVgXXhwgXh4+NjekEYjUbh7+8vSkpKHBsY3ZETJ06I0NBQIYQQXl5e4uLFi6bHJk2aJA4dOuSgyKgrGhsbxdSpU8W5c+dEcHCwyMvL43u0D6qrqxM+Pj7i+vXrZu3MZd/UXmAdOXJECCHE999/L0aOHCkMBgM/Z23Ur04RVlRUYOTIkXBza1tfVZIkBAUFoby83MGR0Z3429/+hoULF+LKlSswGo0YNmyY6bGQkBDm1cmlp6fj0UcfxejRo01tfI/2PcXFxRgyZAg2bNiAiRMnYsaMGfjss8+Yyz5KkiTs3LkTiYmJCA4OxvTp0/H222/j+vXr/Jy1Ub8qsAB0Wh9LcJWKPmnTpk04e/YsNm7cCIB57WuOHTuGEydO4Jlnnun0GHPZtzQ3N+PcuXMYP348Tp48ib///e/49a9/jZaWFuayD2ppacGf//xn7N69G2VlZfjss8+wfPlyAHxv2qpfFViBgYGorKxES0sLgLYXR0VFBYKCghwcGdliy5Yt0Ol02L9/P1QqFYYMGQIAuHTpkqlPWVkZ8+rEjhw5Ar1ej9GjRyMkJASVlZW4//77cfr0ab5H+5jg4GDIZDIsW7YMABATE4PRo0ejrKyMueyDvvvuO1RVVeHuu+8GAEyaNAkjR45Ebm4uAH7O2qJfFVh+fn7QaDR49913AQBZWVkICQlBSEiIYwOjLnv55ZexY8cOfPrppxg0aJCpfenSpXj11VcBACdOnMBPP/2E6dOnOypMuo3nn38eVVVVKC0tRWlpKQICAnDgwAEsX76c79E+ZujQobjvvvtw4MABAG2/dEtKSjBjxgzmsg9qH4goLCwEAPzwww8oLi5GWFgYP2dt1O9Wci8sLMRjjz2GK1euYODAgXj77bcRGRnp6LCoC9rvNTlmzBgMGDAAAKBQKHD8+HFcuHABycnJKCkpgYeHB1577TUkJCQ4OGLqqpCQEOzduxcTJkzge7QPOnfuHB5//HFcuXIFcrkca9aswZIlS5jLPmrHjh3YtGkTZDIZhBD4t3/7N/z617/m56yN+l2BRURERGRv/eoUIREREVFvYIFFRERE1MNYYBERERH1MBZYRERERD2MBRYRERFRD2OBRURERNTDWGAR9UNr166FJEmYOXOmxce8vb17NZ7HHnsMEyZM6NV92kqr1WLEiBGQyWT44x//2OnxkJAQSJJ0y39r165FaWkpJEnChx9+6ICjIKLe4uboAIjIcY4ePYrPP/8c9957r6NDcWoHDhxAZmYm/vKXv2DKlCkYOXJkpz4fffQRDAaD6fslS5Zg+vTpWLlypaktICDAdOsYInJtLLCI+ikvLy9MmDAB69atc/kCq6GhAUql8o5/vqCgAADw7LPPQiazPPCv0WjMvlcoFPD398fUqVPN2ktLS+84jsbGRnh6et7xzxNR7+EpQqJ+LD09HV988QUOHz5stc/hw4chSRJOnjxp1r5gwQLMmjXL9H37qcXs7GxMmTIFSqUSGo0G2dnZaGxsxNNPPw1fX18EBATg3//93y3ua//+/ZgwYQI8PT0RHx+Pb775plOft956C9HR0fD09MSoUaOwevVqs1Ght956C5Ik4dixY5gzZw68vLywatUqq8dXXV2NJ598EsOGDYNSqcTkyZNx8OBB0+OzZs3Cn/70JwCAXC6HJEm3fL66qrGxEb///e8xePBgjBgxAqtWrTI7jvbn89tvv8Vdd90FT09PvPLKK12K+Z133oFCoUBDQ4OpLTY2FnK5HDU1Naa26dOn48knnwQANDc3IyUlBcHBwVAoFBgxYgQWLlyI2trabh8rUX/EAouoH5s/fz4mTZqEtWvX9shLk4xNAAAGd0lEQVT2mpub8fjjj+Ppp59GVlYWWlpakJiYiCeeeAJKpRIffPABFi9ejD/96U/4+uuvzX72/PnzeOaZZ5CSkoKdO3dCoVDg/vvvx8WLF019Xn75ZTz55JO4//77sWfPHjz33HP429/+htTU1E6xLFu2DPfddx/27t2L5ORki/G2trZi3rx5+Oijj7Bx40ZkZWXB398f8+fPx6FDhwAAr732Gv7whz8AAI4dO4Zjx44hLi6u28/V6tWrIZPJsHPnTqxYsQJbt27Ff/3Xf5n1aWpqwrJly5CcnIxPPvkEc+fO7VLMCQkJaGpqMhWotbW1yMvLg4eHB7788ksAbQXeiRMnTPPw/vznP2Pbtm147rnncPDgQfz973/HyJEjzU57EpENBBH1O2vWrBFeXl5CCCH27NkjAIjDhw93ekwIIQ4dOiQAiBMnTpht48EHHxQJCQlm2wQg9u/fb2pr3/YjjzxiamtpaRF+fn7ij3/8o6lt+fLlAoD47LPPTG01NTXC29tbvPDCC0IIIa5du2b2fbtXX31VKJVKcfnyZSGEENu3bxcAxObNm2/7POzevVsAEB9//LGprbW1VURERJgdW2ZmprD14zI4OFj88z//c6f2kpISAUAsXbrUrP3uu+8W9913n+n79udz586ddxRzUFCQWLNmjRCiLQ/+/v5i6dKlYuXKlUKIX/JaUlIihGjLZ2Jiok3HSETWcQSLqJ9bsGAB4uLisG7dum5vSyaTmc3nCgsLAwDMnj3b1CaXyxEaGoqKigqzn/Xx8TH72UGDBuHee+81jcJ8/fXXqKurw9KlS9HS0mL6d++996KhoQGnT5822978+fNvG+/Ro0cxYMAAs74ymQwPP/wwvv76a7S2ttpw9LaZO3eu2ffjx49HZWVlp34dj6OrMc+cORNHjhwBAHzxxReYOXMmEhISzNoCAwMREhICAIiLi8O+ffuwdu1anDhxAkajsceOlag/YoFFREhPT8ehQ4dw9OjRbm1HqVTCw8PD9H37/wcNGmTWz8PDA42NjWZtw4YN67Q9Pz8/nD9/HgBw+fJlAG2FgLu7u+lfREQEAHQq2Pz8/G4bb01NDfz9/Tu1Dx8+HM3Nzairq7vtNu5UV54TlUoFLy8vs7auxpyQkIDjx4+jqanJVGDNnDkTp06dwvXr1/HFF18gISHB9POrV6/Gc889h7fffhuTJ0/G8OHDsW7dOggheuqQifoVFlhEhEWLFiE2NtbiKFb7VWtNTU1m7dXV1T0aw6VLlzq1Xbx4ESNGjAAA+Pr6AgB0Oh1OnDjR6d+8efPMflaSpNvu09fXFxcuXOjU/tNPP8Hd3b3X1wPryNIxdDXmmTNnoqGhAYcOHUJOTg5mzpyJCRMmwMfHB4cPH8Y333xjtg6aQqHA2rVrUVJSgrNnz+LJJ5/E2rVr8e6779rvAIlcGAssIgLQNor12WefmSZBtwsICADwy1IFQFvhk5ub26P7r62txeeff97p+ylTpgAApk2bBpVKhcrKSkycOLHTvyFDhti8z+nTp+P69ev45JNPTG1GoxG7du3CtGnTIJfLu39gPayrMYeFhWH48OH485//jAEDBiAqKgqSJGHGjBnYunUrbty4YXGhWQAYO3YsNm3aBF9fX7O8E1HXcR0sIgIALF68GNHR0fjss8/MTksFBARgypQpWLduHXx8fCCXy/Hiiy/Cx8enR/fv6+uLJ554AuvWrcOgQYPw4osvAoBp1XQfHx+sX78eWq0WlZWVuOeeeyCTyXDu3Dns3r0bWVlZUKlUNu3zwQcfxOTJk5GcnIxNmzYhICAA27ZtQ2FhIV599dUePb6eYkvMM2bMwK5du/DQQw+ZRsNmzpyJlStXwt/fH+Hh4aa+ixcvRnx8PDQaDby8vLBnzx5UV1e7/BppRPbCAouIALSdjkpPT8evfvWrTo+99957+O1vf4vHHnsMI0aMwIYNG/DOO+/06BylESNG4KWXXkJKSgqKi4sRGRmJAwcOmM03WrlyJUaNGoWXX34Zr7zyCtzd3REaGooFCxaYzf3qKrlcjv379yMlJQUvvPAC6urqEB0djY8//thsjS9nYkvMCQkJ2LVrl9lIVfu8qxkzZpj1vfvuu7Fz505s3boVLS0tCA8Px/vvv292gQIRdZ0kOIORiIiIqEdxDhYRERFRD2OBRURERNTDWGARERER9TAWWEREREQ97P8DZI/Bg29v7vQAAAAASUVORK5CYII=\" />"
      ]
     },
     "execution_count": 22,
     "metadata": {},
     "output_type": "execute_result"
    }
   ],
   "source": [
    "scatter(prob10_2,label=\"N=10^2\",xlabel=\"Number of Throws\",ylabel=\"Probability\",title=\"Distributions for Various N\")\n",
    "scatter!(prob10_3,label=\"N=10^3\")\n",
    "scatter!(prob10_4,label=\"N=10^4\")\n",
    "scatter!(prob10_5,label=\"N=10^5\")\n",
    "scatter!(prob10_6,label=\"N=10^6\")"
   ]
  },
  {
   "cell_type": "code",
   "execution_count": 23,
   "metadata": {},
   "outputs": [
    {
     "data": {
      "text/html": [
       "<img src=\"data:image/png;base64,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\" />"
      ]
     },
     "execution_count": 23,
     "metadata": {},
     "output_type": "execute_result"
    }
   ],
   "source": [
    "plot(prob10_2,label=\"N=10^2\",xlabel=\"Number of Throws\",ylabel=\"Probability\",title=\"Distributions for Various N\")\n",
    "plot!(prob10_3,label=\"N=10^3\")\n",
    "plot!(prob10_4,label=\"N=10^4\")\n",
    "plot!(prob10_5,label=\"N=10^5\")\n",
    "plot!(prob10_6,label=\"N=10^6\")"
   ]
  },
  {
   "cell_type": "markdown",
   "metadata": {},
   "source": [
    "#### Conclusion: increasing sample size gives smoother and more accurate distribution"
   ]
  },
  {
   "cell_type": "code",
   "execution_count": 129,
   "metadata": {},
   "outputs": [
    {
     "data": {
      "text/plain": [
       "kdice (generic function with 1 method)"
      ]
     },
     "execution_count": 129,
     "metadata": {},
     "output_type": "execute_result"
    }
   ],
   "source": [
    "function kdice(K)\n",
    "    dice = 10;\n",
    "    game = rolldice(dice);\n",
    "    throws = 1;\n",
    "    L = mode(game)[1];\n",
    "    numL = mode(game)[2];\n",
    "    while numL < K\n",
    "        game = rolldice(dice);\n",
    "        throws += 1;\n",
    "        L = mode(game)[1];\n",
    "        numL = mode(game)[2];\n",
    "    end\n",
    "    dice = Int(dice - numL);\n",
    "    while dice > 0\n",
    "        game = rolldice(dice);\n",
    "        throws += 1;\n",
    "        for dval in game\n",
    "            if dval == L\n",
    "                dice -= 1;\n",
    "            end\n",
    "        end\n",
    "    end\n",
    "    return throws\n",
    "end"
   ]
  },
  {
   "cell_type": "code",
   "execution_count": 130,
   "metadata": {},
   "outputs": [
    {
     "data": {
      "text/plain": [
       "17"
      ]
     },
     "execution_count": 130,
     "metadata": {},
     "output_type": "execute_result"
    }
   ],
   "source": [
    "kdice(2)"
   ]
  },
  {
   "cell_type": "code",
   "execution_count": 131,
   "metadata": {},
   "outputs": [
    {
     "data": {
      "text/plain": [
       "20"
      ]
     },
     "execution_count": 131,
     "metadata": {},
     "output_type": "execute_result"
    }
   ],
   "source": [
    "kdice(4)"
   ]
  },
  {
   "cell_type": "code",
   "execution_count": 132,
   "metadata": {},
   "outputs": [
    {
     "data": {
      "text/plain": [
       "19"
      ]
     },
     "execution_count": 132,
     "metadata": {},
     "output_type": "execute_result"
    }
   ],
   "source": [
    "kdice(6)"
   ]
  },
  {
   "cell_type": "code",
   "execution_count": 133,
   "metadata": {},
   "outputs": [
    {
     "data": {
      "text/plain": [
       "6934"
      ]
     },
     "execution_count": 133,
     "metadata": {},
     "output_type": "execute_result"
    }
   ],
   "source": [
    "kdice(8)"
   ]
  },
  {
   "cell_type": "code",
   "execution_count": 134,
   "metadata": {
    "scrolled": true
   },
   "outputs": [
    {
     "data": {
      "text/plain": [
       "5771005"
      ]
     },
     "execution_count": 134,
     "metadata": {},
     "output_type": "execute_result"
    }
   ],
   "source": [
    "kdice(10)"
   ]
  },
  {
   "cell_type": "code",
   "execution_count": 135,
   "metadata": {},
   "outputs": [
    {
     "data": {
      "text/plain": [
       "playK (generic function with 2 methods)"
      ]
     },
     "execution_count": 135,
     "metadata": {},
     "output_type": "execute_result"
    }
   ],
   "source": [
    "function playK(runs,K)\n",
    "    throws = ones(Int64,runs);\n",
    "    for i in eachindex(throws)\n",
    "        throws[i] = kdice(K);\n",
    "    end\n",
    "    return throws\n",
    "end"
   ]
  },
  {
   "cell_type": "code",
   "execution_count": 136,
   "metadata": {},
   "outputs": [
    {
     "name": "stdout",
     "output_type": "stream",
     "text": [
      "1 0\n",
      "2 0\n",
      "3 0\n",
      "4 3\n",
      "5 4\n",
      "6 6\n",
      "7 7\n",
      "8 21\n",
      "9 18\n",
      "10 24\n",
      "11 30\n",
      "12 30\n",
      "13 39\n",
      "14 32\n",
      "15 41\n",
      "16 38\n",
      "17 33\n",
      "18 40\n",
      "19 43\n",
      "20 35\n",
      "21 50\n",
      "22 33\n",
      "23 24\n",
      "24 23\n",
      "25 34\n",
      "26 31\n",
      "27 34\n",
      "28 26\n",
      "29 25\n",
      "30 30\n",
      "31 12\n",
      "32 20\n",
      "33 16\n",
      "34 24\n",
      "35 15\n",
      "36 16\n",
      "37 16\n",
      "38 13\n",
      "39 11\n",
      "40 11\n",
      "41 7\n",
      "42 10\n",
      "43 9\n",
      "44 8\n",
      "45 3\n",
      "46 9\n",
      "47 7\n",
      "48 6\n",
      "49 4\n",
      "50 4\n",
      "51 2\n",
      "52 4\n",
      "53 1\n",
      "54 1\n",
      "55 5\n",
      "56 1\n",
      "57 0\n",
      "58 0\n",
      "59 3\n",
      "60 0\n",
      "61 1\n",
      "62 1\n",
      "63 1\n",
      "64 2\n",
      "65 0\n",
      "66 1\n",
      "67 0\n",
      "68 0\n",
      "69 0\n",
      "70 0\n",
      "71 0\n",
      "72 0\n",
      "73 0\n",
      "74 0\n",
      "75 0\n",
      "76 0\n",
      "77 0\n",
      "78 0\n",
      "79 1\n",
      "80 0\n",
      "81 0\n",
      "82 0\n",
      "83 0\n",
      "84 0\n",
      "85 0\n",
      "86 0\n",
      "87 0\n",
      "88 0\n",
      "89 0\n",
      "90 1\n"
     ]
    }
   ],
   "source": [
    "kthrows = playK(1000,5);\n",
    "kdist = distribute(kthrows);\n",
    "numlist(kdist)"
   ]
  },
  {
   "cell_type": "code",
   "execution_count": 137,
   "metadata": {},
   "outputs": [
    {
     "data": {
      "text/html": [
       "<img src=\"data:image/png;base64,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\" />"
      ]
     },
     "execution_count": 137,
     "metadata": {},
     "output_type": "execute_result"
    }
   ],
   "source": [
    "bar(kdist)"
   ]
  },
  {
   "cell_type": "code",
   "execution_count": 138,
   "metadata": {},
   "outputs": [],
   "source": [
    "i = [1,2,3,4,5,6,7,8,9,10];\n",
    "ithrows = zeros(10,10);"
   ]
  },
  {
   "cell_type": "code",
   "execution_count": null,
   "metadata": {},
   "outputs": [],
   "source": [
    "function playkdist()\n",
    "    i = [1,2,3,4,5,6,7,8,9,10];\n",
    "    kavg = zeros(10) \n",
    "    for val in i\n",
    "        kthrows = playK(10,val);\n",
    "        kavg[val] = floor(Int,mean(kthrows));\n",
    "    end\n",
    "    return kavg\n",
    "end"
   ]
  },
  {
   "cell_type": "code",
   "execution_count": null,
   "metadata": {},
   "outputs": [],
   "source": []
  },
  {
   "cell_type": "code",
   "execution_count": 128,
   "metadata": {},
   "outputs": [
    {
     "name": "stdout",
     "output_type": "stream",
     "text": [
      "1 15.0\n",
      "2 15.0\n",
      "3 15.0\n",
      "4 15.0\n",
      "5 16.0\n",
      "6 16.0\n",
      "7 16.0\n",
      "8 16.0\n",
      "9 16.0\n",
      "10 16.0\n"
     ]
    }
   ],
   "source": [
    "numlist(kres)"
   ]
  },
  {
   "cell_type": "code",
   "execution_count": null,
   "metadata": {},
   "outputs": [],
   "source": []
  }
 ],
 "metadata": {
  "kernelspec": {
   "display_name": "Julia 0.6.2",
   "language": "julia",
   "name": "julia-0.6"
  },
  "language_info": {
   "file_extension": ".jl",
   "mimetype": "application/julia",
   "name": "julia",
   "version": "0.6.2"
  }
 },
 "nbformat": 4,
 "nbformat_minor": 2
}
